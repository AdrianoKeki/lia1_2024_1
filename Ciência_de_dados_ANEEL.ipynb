{
  "cells": [
    {
      "cell_type": "markdown",
      "metadata": {
        "id": "view-in-github",
        "colab_type": "text"
      },
      "source": [
        "<a href=\"https://colab.research.google.com/github/AdrianoKeki/lia1_2024_1/blob/main/Ci%C3%AAncia_de_dados_ANEEL.ipynb\" target=\"_parent\"><img src=\"https://colab.research.google.com/assets/colab-badge.svg\" alt=\"Open In Colab\"/></a>"
      ]
    },
    {
      "cell_type": "markdown",
      "id": "b061b4ec",
      "metadata": {
        "id": "b061b4ec"
      },
      "source": [
        "## **Ciência de Dados - Dataset ANEEL (Agência Nacional de Energia Elétrica)** 🧢\n",
        "\n",
        "Estudo da evolução histórica da Capacidade instalada de geração por UF expressa em kW. Armazena a capacidade Instalada por Estado até o trimestre mais recente, expressos em quantidades e potência instalada em kW (quilowatt). As usinas localizadas em divisas de estados são consideradas no total de capacidade do próprio estado.\n",
        "\n",
        "**Serão 6 perguntas e 4 desafios! #borafazer**"
      ]
    },
    {
      "cell_type": "code",
      "source": [
        "from google.colab import drive\n",
        "drive.mount('/content/drive')"
      ],
      "metadata": {
        "id": "m0IiruleH5yI",
        "outputId": "af8fb3cb-132c-4bb2-e966-7d45064858d3",
        "colab": {
          "base_uri": "https://localhost:8080/"
        }
      },
      "id": "m0IiruleH5yI",
      "execution_count": 340,
      "outputs": [
        {
          "output_type": "stream",
          "name": "stdout",
          "text": [
            "Drive already mounted at /content/drive; to attempt to forcibly remount, call drive.mount(\"/content/drive\", force_remount=True).\n"
          ]
        }
      ]
    },
    {
      "cell_type": "code",
      "execution_count": 341,
      "id": "b4db14f6",
      "metadata": {
        "id": "b4db14f6"
      },
      "outputs": [],
      "source": [
        "# Imports\n",
        "import numpy as np\n",
        "import pandas as pd\n",
        "import matplotlib.pyplot as plt\n",
        "import seaborn as sns\n",
        "import datetime as dt"
      ]
    },
    {
      "cell_type": "markdown",
      "id": "cba483b3",
      "metadata": {
        "id": "cba483b3"
      },
      "source": [
        "**Carregando os dados**"
      ]
    },
    {
      "cell_type": "code",
      "execution_count": 342,
      "id": "9e9a2f84",
      "metadata": {
        "id": "9e9a2f84"
      },
      "outputs": [],
      "source": [
        "# Carrega o dataset\n",
        "df_ss = pd.read_csv('/content/drive/MyDrive/Aula IA/17-04/capacidade-instalada-geracao-uf.csv', sep=';', encoding='latin1')"
      ]
    },
    {
      "cell_type": "code",
      "execution_count": 343,
      "id": "b2057c0d",
      "metadata": {
        "colab": {
          "base_uri": "https://localhost:8080/"
        },
        "id": "b2057c0d",
        "outputId": "784369f6-4ec0-4cab-f41e-fb8f0c809d60"
      },
      "outputs": [
        {
          "output_type": "execute_result",
          "data": {
            "text/plain": [
              "(1480, 6)"
            ]
          },
          "metadata": {},
          "execution_count": 343
        }
      ],
      "source": [
        "# Shape\n",
        "df_ss.shape"
      ]
    },
    {
      "cell_type": "code",
      "execution_count": 344,
      "id": "d2814227",
      "metadata": {
        "scrolled": true,
        "colab": {
          "base_uri": "https://localhost:8080/",
          "height": 206
        },
        "id": "d2814227",
        "outputId": "7163f4fb-caf0-460c-b7b3-a52887d19183"
      },
      "outputs": [
        {
          "output_type": "execute_result",
          "data": {
            "text/plain": [
              "  DatGeracaoConjuntoDados  AnoReferencia  MesReferencia     NomUF SigUF  \\\n",
              "0              2024-04-01           2006             12      ACRE    AC   \n",
              "1              2024-04-01           2006             12   ALAGOAS    AL   \n",
              "2              2024-04-01           2006             12  AMAZONAS    AM   \n",
              "3              2024-04-01           2006             12     AMAPA    AP   \n",
              "4              2024-04-01           2006             12     BAHIA    BA   \n",
              "\n",
              "  MdaPotenciaInstaladakW  \n",
              "0              141760,50  \n",
              "1             7626936,50  \n",
              "2             2105228,60  \n",
              "3              273950,00  \n",
              "4             8899100,90  "
            ],
            "text/html": [
              "\n",
              "  <div id=\"df-77411cc8-a016-48b7-8c9d-5022130dd924\" class=\"colab-df-container\">\n",
              "    <div>\n",
              "<style scoped>\n",
              "    .dataframe tbody tr th:only-of-type {\n",
              "        vertical-align: middle;\n",
              "    }\n",
              "\n",
              "    .dataframe tbody tr th {\n",
              "        vertical-align: top;\n",
              "    }\n",
              "\n",
              "    .dataframe thead th {\n",
              "        text-align: right;\n",
              "    }\n",
              "</style>\n",
              "<table border=\"1\" class=\"dataframe\">\n",
              "  <thead>\n",
              "    <tr style=\"text-align: right;\">\n",
              "      <th></th>\n",
              "      <th>DatGeracaoConjuntoDados</th>\n",
              "      <th>AnoReferencia</th>\n",
              "      <th>MesReferencia</th>\n",
              "      <th>NomUF</th>\n",
              "      <th>SigUF</th>\n",
              "      <th>MdaPotenciaInstaladakW</th>\n",
              "    </tr>\n",
              "  </thead>\n",
              "  <tbody>\n",
              "    <tr>\n",
              "      <th>0</th>\n",
              "      <td>2024-04-01</td>\n",
              "      <td>2006</td>\n",
              "      <td>12</td>\n",
              "      <td>ACRE</td>\n",
              "      <td>AC</td>\n",
              "      <td>141760,50</td>\n",
              "    </tr>\n",
              "    <tr>\n",
              "      <th>1</th>\n",
              "      <td>2024-04-01</td>\n",
              "      <td>2006</td>\n",
              "      <td>12</td>\n",
              "      <td>ALAGOAS</td>\n",
              "      <td>AL</td>\n",
              "      <td>7626936,50</td>\n",
              "    </tr>\n",
              "    <tr>\n",
              "      <th>2</th>\n",
              "      <td>2024-04-01</td>\n",
              "      <td>2006</td>\n",
              "      <td>12</td>\n",
              "      <td>AMAZONAS</td>\n",
              "      <td>AM</td>\n",
              "      <td>2105228,60</td>\n",
              "    </tr>\n",
              "    <tr>\n",
              "      <th>3</th>\n",
              "      <td>2024-04-01</td>\n",
              "      <td>2006</td>\n",
              "      <td>12</td>\n",
              "      <td>AMAPA</td>\n",
              "      <td>AP</td>\n",
              "      <td>273950,00</td>\n",
              "    </tr>\n",
              "    <tr>\n",
              "      <th>4</th>\n",
              "      <td>2024-04-01</td>\n",
              "      <td>2006</td>\n",
              "      <td>12</td>\n",
              "      <td>BAHIA</td>\n",
              "      <td>BA</td>\n",
              "      <td>8899100,90</td>\n",
              "    </tr>\n",
              "  </tbody>\n",
              "</table>\n",
              "</div>\n",
              "    <div class=\"colab-df-buttons\">\n",
              "\n",
              "  <div class=\"colab-df-container\">\n",
              "    <button class=\"colab-df-convert\" onclick=\"convertToInteractive('df-77411cc8-a016-48b7-8c9d-5022130dd924')\"\n",
              "            title=\"Convert this dataframe to an interactive table.\"\n",
              "            style=\"display:none;\">\n",
              "\n",
              "  <svg xmlns=\"http://www.w3.org/2000/svg\" height=\"24px\" viewBox=\"0 -960 960 960\">\n",
              "    <path d=\"M120-120v-720h720v720H120Zm60-500h600v-160H180v160Zm220 220h160v-160H400v160Zm0 220h160v-160H400v160ZM180-400h160v-160H180v160Zm440 0h160v-160H620v160ZM180-180h160v-160H180v160Zm440 0h160v-160H620v160Z\"/>\n",
              "  </svg>\n",
              "    </button>\n",
              "\n",
              "  <style>\n",
              "    .colab-df-container {\n",
              "      display:flex;\n",
              "      gap: 12px;\n",
              "    }\n",
              "\n",
              "    .colab-df-convert {\n",
              "      background-color: #E8F0FE;\n",
              "      border: none;\n",
              "      border-radius: 50%;\n",
              "      cursor: pointer;\n",
              "      display: none;\n",
              "      fill: #1967D2;\n",
              "      height: 32px;\n",
              "      padding: 0 0 0 0;\n",
              "      width: 32px;\n",
              "    }\n",
              "\n",
              "    .colab-df-convert:hover {\n",
              "      background-color: #E2EBFA;\n",
              "      box-shadow: 0px 1px 2px rgba(60, 64, 67, 0.3), 0px 1px 3px 1px rgba(60, 64, 67, 0.15);\n",
              "      fill: #174EA6;\n",
              "    }\n",
              "\n",
              "    .colab-df-buttons div {\n",
              "      margin-bottom: 4px;\n",
              "    }\n",
              "\n",
              "    [theme=dark] .colab-df-convert {\n",
              "      background-color: #3B4455;\n",
              "      fill: #D2E3FC;\n",
              "    }\n",
              "\n",
              "    [theme=dark] .colab-df-convert:hover {\n",
              "      background-color: #434B5C;\n",
              "      box-shadow: 0px 1px 3px 1px rgba(0, 0, 0, 0.15);\n",
              "      filter: drop-shadow(0px 1px 2px rgba(0, 0, 0, 0.3));\n",
              "      fill: #FFFFFF;\n",
              "    }\n",
              "  </style>\n",
              "\n",
              "    <script>\n",
              "      const buttonEl =\n",
              "        document.querySelector('#df-77411cc8-a016-48b7-8c9d-5022130dd924 button.colab-df-convert');\n",
              "      buttonEl.style.display =\n",
              "        google.colab.kernel.accessAllowed ? 'block' : 'none';\n",
              "\n",
              "      async function convertToInteractive(key) {\n",
              "        const element = document.querySelector('#df-77411cc8-a016-48b7-8c9d-5022130dd924');\n",
              "        const dataTable =\n",
              "          await google.colab.kernel.invokeFunction('convertToInteractive',\n",
              "                                                    [key], {});\n",
              "        if (!dataTable) return;\n",
              "\n",
              "        const docLinkHtml = 'Like what you see? Visit the ' +\n",
              "          '<a target=\"_blank\" href=https://colab.research.google.com/notebooks/data_table.ipynb>data table notebook</a>'\n",
              "          + ' to learn more about interactive tables.';\n",
              "        element.innerHTML = '';\n",
              "        dataTable['output_type'] = 'display_data';\n",
              "        await google.colab.output.renderOutput(dataTable, element);\n",
              "        const docLink = document.createElement('div');\n",
              "        docLink.innerHTML = docLinkHtml;\n",
              "        element.appendChild(docLink);\n",
              "      }\n",
              "    </script>\n",
              "  </div>\n",
              "\n",
              "\n",
              "<div id=\"df-78968e4b-0e41-41b7-82e9-08301b5d7333\">\n",
              "  <button class=\"colab-df-quickchart\" onclick=\"quickchart('df-78968e4b-0e41-41b7-82e9-08301b5d7333')\"\n",
              "            title=\"Suggest charts\"\n",
              "            style=\"display:none;\">\n",
              "\n",
              "<svg xmlns=\"http://www.w3.org/2000/svg\" height=\"24px\"viewBox=\"0 0 24 24\"\n",
              "     width=\"24px\">\n",
              "    <g>\n",
              "        <path d=\"M19 3H5c-1.1 0-2 .9-2 2v14c0 1.1.9 2 2 2h14c1.1 0 2-.9 2-2V5c0-1.1-.9-2-2-2zM9 17H7v-7h2v7zm4 0h-2V7h2v10zm4 0h-2v-4h2v4z\"/>\n",
              "    </g>\n",
              "</svg>\n",
              "  </button>\n",
              "\n",
              "<style>\n",
              "  .colab-df-quickchart {\n",
              "      --bg-color: #E8F0FE;\n",
              "      --fill-color: #1967D2;\n",
              "      --hover-bg-color: #E2EBFA;\n",
              "      --hover-fill-color: #174EA6;\n",
              "      --disabled-fill-color: #AAA;\n",
              "      --disabled-bg-color: #DDD;\n",
              "  }\n",
              "\n",
              "  [theme=dark] .colab-df-quickchart {\n",
              "      --bg-color: #3B4455;\n",
              "      --fill-color: #D2E3FC;\n",
              "      --hover-bg-color: #434B5C;\n",
              "      --hover-fill-color: #FFFFFF;\n",
              "      --disabled-bg-color: #3B4455;\n",
              "      --disabled-fill-color: #666;\n",
              "  }\n",
              "\n",
              "  .colab-df-quickchart {\n",
              "    background-color: var(--bg-color);\n",
              "    border: none;\n",
              "    border-radius: 50%;\n",
              "    cursor: pointer;\n",
              "    display: none;\n",
              "    fill: var(--fill-color);\n",
              "    height: 32px;\n",
              "    padding: 0;\n",
              "    width: 32px;\n",
              "  }\n",
              "\n",
              "  .colab-df-quickchart:hover {\n",
              "    background-color: var(--hover-bg-color);\n",
              "    box-shadow: 0 1px 2px rgba(60, 64, 67, 0.3), 0 1px 3px 1px rgba(60, 64, 67, 0.15);\n",
              "    fill: var(--button-hover-fill-color);\n",
              "  }\n",
              "\n",
              "  .colab-df-quickchart-complete:disabled,\n",
              "  .colab-df-quickchart-complete:disabled:hover {\n",
              "    background-color: var(--disabled-bg-color);\n",
              "    fill: var(--disabled-fill-color);\n",
              "    box-shadow: none;\n",
              "  }\n",
              "\n",
              "  .colab-df-spinner {\n",
              "    border: 2px solid var(--fill-color);\n",
              "    border-color: transparent;\n",
              "    border-bottom-color: var(--fill-color);\n",
              "    animation:\n",
              "      spin 1s steps(1) infinite;\n",
              "  }\n",
              "\n",
              "  @keyframes spin {\n",
              "    0% {\n",
              "      border-color: transparent;\n",
              "      border-bottom-color: var(--fill-color);\n",
              "      border-left-color: var(--fill-color);\n",
              "    }\n",
              "    20% {\n",
              "      border-color: transparent;\n",
              "      border-left-color: var(--fill-color);\n",
              "      border-top-color: var(--fill-color);\n",
              "    }\n",
              "    30% {\n",
              "      border-color: transparent;\n",
              "      border-left-color: var(--fill-color);\n",
              "      border-top-color: var(--fill-color);\n",
              "      border-right-color: var(--fill-color);\n",
              "    }\n",
              "    40% {\n",
              "      border-color: transparent;\n",
              "      border-right-color: var(--fill-color);\n",
              "      border-top-color: var(--fill-color);\n",
              "    }\n",
              "    60% {\n",
              "      border-color: transparent;\n",
              "      border-right-color: var(--fill-color);\n",
              "    }\n",
              "    80% {\n",
              "      border-color: transparent;\n",
              "      border-right-color: var(--fill-color);\n",
              "      border-bottom-color: var(--fill-color);\n",
              "    }\n",
              "    90% {\n",
              "      border-color: transparent;\n",
              "      border-bottom-color: var(--fill-color);\n",
              "    }\n",
              "  }\n",
              "</style>\n",
              "\n",
              "  <script>\n",
              "    async function quickchart(key) {\n",
              "      const quickchartButtonEl =\n",
              "        document.querySelector('#' + key + ' button');\n",
              "      quickchartButtonEl.disabled = true;  // To prevent multiple clicks.\n",
              "      quickchartButtonEl.classList.add('colab-df-spinner');\n",
              "      try {\n",
              "        const charts = await google.colab.kernel.invokeFunction(\n",
              "            'suggestCharts', [key], {});\n",
              "      } catch (error) {\n",
              "        console.error('Error during call to suggestCharts:', error);\n",
              "      }\n",
              "      quickchartButtonEl.classList.remove('colab-df-spinner');\n",
              "      quickchartButtonEl.classList.add('colab-df-quickchart-complete');\n",
              "    }\n",
              "    (() => {\n",
              "      let quickchartButtonEl =\n",
              "        document.querySelector('#df-78968e4b-0e41-41b7-82e9-08301b5d7333 button');\n",
              "      quickchartButtonEl.style.display =\n",
              "        google.colab.kernel.accessAllowed ? 'block' : 'none';\n",
              "    })();\n",
              "  </script>\n",
              "</div>\n",
              "    </div>\n",
              "  </div>\n"
            ],
            "application/vnd.google.colaboratory.intrinsic+json": {
              "type": "dataframe",
              "variable_name": "df_ss",
              "summary": "{\n  \"name\": \"df_ss\",\n  \"rows\": 1480,\n  \"fields\": [\n    {\n      \"column\": \"DatGeracaoConjuntoDados\",\n      \"properties\": {\n        \"dtype\": \"object\",\n        \"num_unique_values\": 1,\n        \"samples\": [\n          \"2024-04-01\"\n        ],\n        \"semantic_type\": \"\",\n        \"description\": \"\"\n      }\n    },\n    {\n      \"column\": \"AnoReferencia\",\n      \"properties\": {\n        \"dtype\": \"number\",\n        \"std\": 4,\n        \"min\": 2006,\n        \"max\": 2024,\n        \"num_unique_values\": 19,\n        \"samples\": [\n          2006\n        ],\n        \"semantic_type\": \"\",\n        \"description\": \"\"\n      }\n    },\n    {\n      \"column\": \"MesReferencia\",\n      \"properties\": {\n        \"dtype\": \"number\",\n        \"std\": 3,\n        \"min\": 2,\n        \"max\": 12,\n        \"num_unique_values\": 8,\n        \"samples\": [\n          3\n        ],\n        \"semantic_type\": \"\",\n        \"description\": \"\"\n      }\n    },\n    {\n      \"column\": \"NomUF\",\n      \"properties\": {\n        \"dtype\": \"category\",\n        \"num_unique_values\": 64,\n        \"samples\": [\n          \"S\\u00e3o Paulo\"\n        ],\n        \"semantic_type\": \"\",\n        \"description\": \"\"\n      }\n    },\n    {\n      \"column\": \"SigUF\",\n      \"properties\": {\n        \"dtype\": \"category\",\n        \"num_unique_values\": 27,\n        \"samples\": [\n          \"GO\"\n        ],\n        \"semantic_type\": \"\",\n        \"description\": \"\"\n      }\n    },\n    {\n      \"column\": \"MdaPotenciaInstaladakW\",\n      \"properties\": {\n        \"dtype\": \"string\",\n        \"num_unique_values\": 1141,\n        \"samples\": [\n          \"5009780,89\"\n        ],\n        \"semantic_type\": \"\",\n        \"description\": \"\"\n      }\n    }\n  ]\n}"
            }
          },
          "metadata": {},
          "execution_count": 344
        }
      ],
      "source": [
        "# Amostra dos dados\n",
        "df_ss.head()"
      ]
    },
    {
      "cell_type": "code",
      "source": [
        "#Transformar o operador decimal de , para . para que o programa reconheça os dado como numeral float\n",
        "\n",
        "df_ss['MdaPotenciaInstaladakW'] = df_ss['MdaPotenciaInstaladakW'].str.replace(',', '.')\n",
        "\n",
        "df_ss['MdaPotenciaInstaladakW'] = df_ss['MdaPotenciaInstaladakW'].astype(float)"
      ],
      "metadata": {
        "id": "4sroBWKOShAO"
      },
      "id": "4sroBWKOShAO",
      "execution_count": 345,
      "outputs": []
    },
    {
      "cell_type": "code",
      "execution_count": 346,
      "id": "962249af",
      "metadata": {
        "colab": {
          "base_uri": "https://localhost:8080/",
          "height": 206
        },
        "id": "962249af",
        "outputId": "e0028200-e640-4527-81d5-e67967cde779"
      },
      "outputs": [
        {
          "output_type": "execute_result",
          "data": {
            "text/plain": [
              "     DatGeracaoConjuntoDados  AnoReferencia  MesReferencia              NomUF  \\\n",
              "1475              2024-04-01           2024              2  RIO GRANDE DO SUL   \n",
              "1476              2024-04-01           2024              2     SANTA CATARINA   \n",
              "1477              2024-04-01           2024              2            SERGIPE   \n",
              "1478              2024-04-01           2024              2          SÃO PAULO   \n",
              "1479              2024-04-01           2024              2          TOCANTINS   \n",
              "\n",
              "     SigUF  MdaPotenciaInstaladakW  \n",
              "1475    RS              9669569.93  \n",
              "1476    SC              5026742.42  \n",
              "1477    SE              4891390.40  \n",
              "1478    SP             24898870.62  \n",
              "1479    TO              1968846.40  "
            ],
            "text/html": [
              "\n",
              "  <div id=\"df-7b4744a6-007d-4851-9365-baf8f3ad0b8e\" class=\"colab-df-container\">\n",
              "    <div>\n",
              "<style scoped>\n",
              "    .dataframe tbody tr th:only-of-type {\n",
              "        vertical-align: middle;\n",
              "    }\n",
              "\n",
              "    .dataframe tbody tr th {\n",
              "        vertical-align: top;\n",
              "    }\n",
              "\n",
              "    .dataframe thead th {\n",
              "        text-align: right;\n",
              "    }\n",
              "</style>\n",
              "<table border=\"1\" class=\"dataframe\">\n",
              "  <thead>\n",
              "    <tr style=\"text-align: right;\">\n",
              "      <th></th>\n",
              "      <th>DatGeracaoConjuntoDados</th>\n",
              "      <th>AnoReferencia</th>\n",
              "      <th>MesReferencia</th>\n",
              "      <th>NomUF</th>\n",
              "      <th>SigUF</th>\n",
              "      <th>MdaPotenciaInstaladakW</th>\n",
              "    </tr>\n",
              "  </thead>\n",
              "  <tbody>\n",
              "    <tr>\n",
              "      <th>1475</th>\n",
              "      <td>2024-04-01</td>\n",
              "      <td>2024</td>\n",
              "      <td>2</td>\n",
              "      <td>RIO GRANDE DO SUL</td>\n",
              "      <td>RS</td>\n",
              "      <td>9669569.93</td>\n",
              "    </tr>\n",
              "    <tr>\n",
              "      <th>1476</th>\n",
              "      <td>2024-04-01</td>\n",
              "      <td>2024</td>\n",
              "      <td>2</td>\n",
              "      <td>SANTA CATARINA</td>\n",
              "      <td>SC</td>\n",
              "      <td>5026742.42</td>\n",
              "    </tr>\n",
              "    <tr>\n",
              "      <th>1477</th>\n",
              "      <td>2024-04-01</td>\n",
              "      <td>2024</td>\n",
              "      <td>2</td>\n",
              "      <td>SERGIPE</td>\n",
              "      <td>SE</td>\n",
              "      <td>4891390.40</td>\n",
              "    </tr>\n",
              "    <tr>\n",
              "      <th>1478</th>\n",
              "      <td>2024-04-01</td>\n",
              "      <td>2024</td>\n",
              "      <td>2</td>\n",
              "      <td>SÃO PAULO</td>\n",
              "      <td>SP</td>\n",
              "      <td>24898870.62</td>\n",
              "    </tr>\n",
              "    <tr>\n",
              "      <th>1479</th>\n",
              "      <td>2024-04-01</td>\n",
              "      <td>2024</td>\n",
              "      <td>2</td>\n",
              "      <td>TOCANTINS</td>\n",
              "      <td>TO</td>\n",
              "      <td>1968846.40</td>\n",
              "    </tr>\n",
              "  </tbody>\n",
              "</table>\n",
              "</div>\n",
              "    <div class=\"colab-df-buttons\">\n",
              "\n",
              "  <div class=\"colab-df-container\">\n",
              "    <button class=\"colab-df-convert\" onclick=\"convertToInteractive('df-7b4744a6-007d-4851-9365-baf8f3ad0b8e')\"\n",
              "            title=\"Convert this dataframe to an interactive table.\"\n",
              "            style=\"display:none;\">\n",
              "\n",
              "  <svg xmlns=\"http://www.w3.org/2000/svg\" height=\"24px\" viewBox=\"0 -960 960 960\">\n",
              "    <path d=\"M120-120v-720h720v720H120Zm60-500h600v-160H180v160Zm220 220h160v-160H400v160Zm0 220h160v-160H400v160ZM180-400h160v-160H180v160Zm440 0h160v-160H620v160ZM180-180h160v-160H180v160Zm440 0h160v-160H620v160Z\"/>\n",
              "  </svg>\n",
              "    </button>\n",
              "\n",
              "  <style>\n",
              "    .colab-df-container {\n",
              "      display:flex;\n",
              "      gap: 12px;\n",
              "    }\n",
              "\n",
              "    .colab-df-convert {\n",
              "      background-color: #E8F0FE;\n",
              "      border: none;\n",
              "      border-radius: 50%;\n",
              "      cursor: pointer;\n",
              "      display: none;\n",
              "      fill: #1967D2;\n",
              "      height: 32px;\n",
              "      padding: 0 0 0 0;\n",
              "      width: 32px;\n",
              "    }\n",
              "\n",
              "    .colab-df-convert:hover {\n",
              "      background-color: #E2EBFA;\n",
              "      box-shadow: 0px 1px 2px rgba(60, 64, 67, 0.3), 0px 1px 3px 1px rgba(60, 64, 67, 0.15);\n",
              "      fill: #174EA6;\n",
              "    }\n",
              "\n",
              "    .colab-df-buttons div {\n",
              "      margin-bottom: 4px;\n",
              "    }\n",
              "\n",
              "    [theme=dark] .colab-df-convert {\n",
              "      background-color: #3B4455;\n",
              "      fill: #D2E3FC;\n",
              "    }\n",
              "\n",
              "    [theme=dark] .colab-df-convert:hover {\n",
              "      background-color: #434B5C;\n",
              "      box-shadow: 0px 1px 3px 1px rgba(0, 0, 0, 0.15);\n",
              "      filter: drop-shadow(0px 1px 2px rgba(0, 0, 0, 0.3));\n",
              "      fill: #FFFFFF;\n",
              "    }\n",
              "  </style>\n",
              "\n",
              "    <script>\n",
              "      const buttonEl =\n",
              "        document.querySelector('#df-7b4744a6-007d-4851-9365-baf8f3ad0b8e button.colab-df-convert');\n",
              "      buttonEl.style.display =\n",
              "        google.colab.kernel.accessAllowed ? 'block' : 'none';\n",
              "\n",
              "      async function convertToInteractive(key) {\n",
              "        const element = document.querySelector('#df-7b4744a6-007d-4851-9365-baf8f3ad0b8e');\n",
              "        const dataTable =\n",
              "          await google.colab.kernel.invokeFunction('convertToInteractive',\n",
              "                                                    [key], {});\n",
              "        if (!dataTable) return;\n",
              "\n",
              "        const docLinkHtml = 'Like what you see? Visit the ' +\n",
              "          '<a target=\"_blank\" href=https://colab.research.google.com/notebooks/data_table.ipynb>data table notebook</a>'\n",
              "          + ' to learn more about interactive tables.';\n",
              "        element.innerHTML = '';\n",
              "        dataTable['output_type'] = 'display_data';\n",
              "        await google.colab.output.renderOutput(dataTable, element);\n",
              "        const docLink = document.createElement('div');\n",
              "        docLink.innerHTML = docLinkHtml;\n",
              "        element.appendChild(docLink);\n",
              "      }\n",
              "    </script>\n",
              "  </div>\n",
              "\n",
              "\n",
              "<div id=\"df-1ec6dec0-b5b9-41cf-bf71-63b54342558a\">\n",
              "  <button class=\"colab-df-quickchart\" onclick=\"quickchart('df-1ec6dec0-b5b9-41cf-bf71-63b54342558a')\"\n",
              "            title=\"Suggest charts\"\n",
              "            style=\"display:none;\">\n",
              "\n",
              "<svg xmlns=\"http://www.w3.org/2000/svg\" height=\"24px\"viewBox=\"0 0 24 24\"\n",
              "     width=\"24px\">\n",
              "    <g>\n",
              "        <path d=\"M19 3H5c-1.1 0-2 .9-2 2v14c0 1.1.9 2 2 2h14c1.1 0 2-.9 2-2V5c0-1.1-.9-2-2-2zM9 17H7v-7h2v7zm4 0h-2V7h2v10zm4 0h-2v-4h2v4z\"/>\n",
              "    </g>\n",
              "</svg>\n",
              "  </button>\n",
              "\n",
              "<style>\n",
              "  .colab-df-quickchart {\n",
              "      --bg-color: #E8F0FE;\n",
              "      --fill-color: #1967D2;\n",
              "      --hover-bg-color: #E2EBFA;\n",
              "      --hover-fill-color: #174EA6;\n",
              "      --disabled-fill-color: #AAA;\n",
              "      --disabled-bg-color: #DDD;\n",
              "  }\n",
              "\n",
              "  [theme=dark] .colab-df-quickchart {\n",
              "      --bg-color: #3B4455;\n",
              "      --fill-color: #D2E3FC;\n",
              "      --hover-bg-color: #434B5C;\n",
              "      --hover-fill-color: #FFFFFF;\n",
              "      --disabled-bg-color: #3B4455;\n",
              "      --disabled-fill-color: #666;\n",
              "  }\n",
              "\n",
              "  .colab-df-quickchart {\n",
              "    background-color: var(--bg-color);\n",
              "    border: none;\n",
              "    border-radius: 50%;\n",
              "    cursor: pointer;\n",
              "    display: none;\n",
              "    fill: var(--fill-color);\n",
              "    height: 32px;\n",
              "    padding: 0;\n",
              "    width: 32px;\n",
              "  }\n",
              "\n",
              "  .colab-df-quickchart:hover {\n",
              "    background-color: var(--hover-bg-color);\n",
              "    box-shadow: 0 1px 2px rgba(60, 64, 67, 0.3), 0 1px 3px 1px rgba(60, 64, 67, 0.15);\n",
              "    fill: var(--button-hover-fill-color);\n",
              "  }\n",
              "\n",
              "  .colab-df-quickchart-complete:disabled,\n",
              "  .colab-df-quickchart-complete:disabled:hover {\n",
              "    background-color: var(--disabled-bg-color);\n",
              "    fill: var(--disabled-fill-color);\n",
              "    box-shadow: none;\n",
              "  }\n",
              "\n",
              "  .colab-df-spinner {\n",
              "    border: 2px solid var(--fill-color);\n",
              "    border-color: transparent;\n",
              "    border-bottom-color: var(--fill-color);\n",
              "    animation:\n",
              "      spin 1s steps(1) infinite;\n",
              "  }\n",
              "\n",
              "  @keyframes spin {\n",
              "    0% {\n",
              "      border-color: transparent;\n",
              "      border-bottom-color: var(--fill-color);\n",
              "      border-left-color: var(--fill-color);\n",
              "    }\n",
              "    20% {\n",
              "      border-color: transparent;\n",
              "      border-left-color: var(--fill-color);\n",
              "      border-top-color: var(--fill-color);\n",
              "    }\n",
              "    30% {\n",
              "      border-color: transparent;\n",
              "      border-left-color: var(--fill-color);\n",
              "      border-top-color: var(--fill-color);\n",
              "      border-right-color: var(--fill-color);\n",
              "    }\n",
              "    40% {\n",
              "      border-color: transparent;\n",
              "      border-right-color: var(--fill-color);\n",
              "      border-top-color: var(--fill-color);\n",
              "    }\n",
              "    60% {\n",
              "      border-color: transparent;\n",
              "      border-right-color: var(--fill-color);\n",
              "    }\n",
              "    80% {\n",
              "      border-color: transparent;\n",
              "      border-right-color: var(--fill-color);\n",
              "      border-bottom-color: var(--fill-color);\n",
              "    }\n",
              "    90% {\n",
              "      border-color: transparent;\n",
              "      border-bottom-color: var(--fill-color);\n",
              "    }\n",
              "  }\n",
              "</style>\n",
              "\n",
              "  <script>\n",
              "    async function quickchart(key) {\n",
              "      const quickchartButtonEl =\n",
              "        document.querySelector('#' + key + ' button');\n",
              "      quickchartButtonEl.disabled = true;  // To prevent multiple clicks.\n",
              "      quickchartButtonEl.classList.add('colab-df-spinner');\n",
              "      try {\n",
              "        const charts = await google.colab.kernel.invokeFunction(\n",
              "            'suggestCharts', [key], {});\n",
              "      } catch (error) {\n",
              "        console.error('Error during call to suggestCharts:', error);\n",
              "      }\n",
              "      quickchartButtonEl.classList.remove('colab-df-spinner');\n",
              "      quickchartButtonEl.classList.add('colab-df-quickchart-complete');\n",
              "    }\n",
              "    (() => {\n",
              "      let quickchartButtonEl =\n",
              "        document.querySelector('#df-1ec6dec0-b5b9-41cf-bf71-63b54342558a button');\n",
              "      quickchartButtonEl.style.display =\n",
              "        google.colab.kernel.accessAllowed ? 'block' : 'none';\n",
              "    })();\n",
              "  </script>\n",
              "</div>\n",
              "    </div>\n",
              "  </div>\n"
            ],
            "application/vnd.google.colaboratory.intrinsic+json": {
              "type": "dataframe",
              "repr_error": "0"
            }
          },
          "metadata": {},
          "execution_count": 346
        }
      ],
      "source": [
        "# Amostra dos dados\n",
        "df_ss.tail()"
      ]
    },
    {
      "cell_type": "markdown",
      "id": "3f0cf95a",
      "metadata": {
        "id": "3f0cf95a"
      },
      "source": [
        "**Análise exploratória**"
      ]
    },
    {
      "cell_type": "code",
      "execution_count": 347,
      "id": "7e4c9a2d",
      "metadata": {
        "colab": {
          "base_uri": "https://localhost:8080/"
        },
        "id": "7e4c9a2d",
        "outputId": "d1393559-fec6-4806-f9c7-3229a07c50a1"
      },
      "outputs": [
        {
          "output_type": "execute_result",
          "data": {
            "text/plain": [
              "Index(['DatGeracaoConjuntoDados', 'AnoReferencia', 'MesReferencia', 'NomUF',\n",
              "       'SigUF', 'MdaPotenciaInstaladakW'],\n",
              "      dtype='object')"
            ]
          },
          "metadata": {},
          "execution_count": 347
        }
      ],
      "source": [
        "# Colunas do conjunto de dados\n",
        "df_ss.columns"
      ]
    },
    {
      "cell_type": "code",
      "execution_count": 348,
      "id": "43e7444e",
      "metadata": {
        "colab": {
          "base_uri": "https://localhost:8080/"
        },
        "id": "43e7444e",
        "outputId": "7e3dec80-3270-4af7-e168-8da72a59536f"
      },
      "outputs": [
        {
          "output_type": "execute_result",
          "data": {
            "text/plain": [
              "DatGeracaoConjuntoDados     object\n",
              "AnoReferencia                int64\n",
              "MesReferencia                int64\n",
              "NomUF                       object\n",
              "SigUF                       object\n",
              "MdaPotenciaInstaladakW     float64\n",
              "dtype: object"
            ]
          },
          "metadata": {},
          "execution_count": 348
        }
      ],
      "source": [
        "# Verificando o tipo de dado de cada coluna\n",
        "df_ss.dtypes"
      ]
    },
    {
      "cell_type": "code",
      "execution_count": 349,
      "id": "b8165a80",
      "metadata": {
        "colab": {
          "base_uri": "https://localhost:8080/",
          "height": 53
        },
        "id": "b8165a80",
        "outputId": "1d16db61-3923-4cbb-db38-24ea1d2b5bd3"
      },
      "outputs": [
        {
          "output_type": "execute_result",
          "data": {
            "text/plain": [
              "Empty DataFrame\n",
              "Columns: [DatGeracaoConjuntoDados, AnoReferencia, MesReferencia, NomUF, SigUF, MdaPotenciaInstaladakW]\n",
              "Index: []"
            ],
            "text/html": [
              "\n",
              "  <div id=\"df-af2fc3b0-9c35-4183-a105-c52108ff2360\" class=\"colab-df-container\">\n",
              "    <div>\n",
              "<style scoped>\n",
              "    .dataframe tbody tr th:only-of-type {\n",
              "        vertical-align: middle;\n",
              "    }\n",
              "\n",
              "    .dataframe tbody tr th {\n",
              "        vertical-align: top;\n",
              "    }\n",
              "\n",
              "    .dataframe thead th {\n",
              "        text-align: right;\n",
              "    }\n",
              "</style>\n",
              "<table border=\"1\" class=\"dataframe\">\n",
              "  <thead>\n",
              "    <tr style=\"text-align: right;\">\n",
              "      <th></th>\n",
              "      <th>DatGeracaoConjuntoDados</th>\n",
              "      <th>AnoReferencia</th>\n",
              "      <th>MesReferencia</th>\n",
              "      <th>NomUF</th>\n",
              "      <th>SigUF</th>\n",
              "      <th>MdaPotenciaInstaladakW</th>\n",
              "    </tr>\n",
              "  </thead>\n",
              "  <tbody>\n",
              "  </tbody>\n",
              "</table>\n",
              "</div>\n",
              "    <div class=\"colab-df-buttons\">\n",
              "\n",
              "  <div class=\"colab-df-container\">\n",
              "    <button class=\"colab-df-convert\" onclick=\"convertToInteractive('df-af2fc3b0-9c35-4183-a105-c52108ff2360')\"\n",
              "            title=\"Convert this dataframe to an interactive table.\"\n",
              "            style=\"display:none;\">\n",
              "\n",
              "  <svg xmlns=\"http://www.w3.org/2000/svg\" height=\"24px\" viewBox=\"0 -960 960 960\">\n",
              "    <path d=\"M120-120v-720h720v720H120Zm60-500h600v-160H180v160Zm220 220h160v-160H400v160Zm0 220h160v-160H400v160ZM180-400h160v-160H180v160Zm440 0h160v-160H620v160ZM180-180h160v-160H180v160Zm440 0h160v-160H620v160Z\"/>\n",
              "  </svg>\n",
              "    </button>\n",
              "\n",
              "  <style>\n",
              "    .colab-df-container {\n",
              "      display:flex;\n",
              "      gap: 12px;\n",
              "    }\n",
              "\n",
              "    .colab-df-convert {\n",
              "      background-color: #E8F0FE;\n",
              "      border: none;\n",
              "      border-radius: 50%;\n",
              "      cursor: pointer;\n",
              "      display: none;\n",
              "      fill: #1967D2;\n",
              "      height: 32px;\n",
              "      padding: 0 0 0 0;\n",
              "      width: 32px;\n",
              "    }\n",
              "\n",
              "    .colab-df-convert:hover {\n",
              "      background-color: #E2EBFA;\n",
              "      box-shadow: 0px 1px 2px rgba(60, 64, 67, 0.3), 0px 1px 3px 1px rgba(60, 64, 67, 0.15);\n",
              "      fill: #174EA6;\n",
              "    }\n",
              "\n",
              "    .colab-df-buttons div {\n",
              "      margin-bottom: 4px;\n",
              "    }\n",
              "\n",
              "    [theme=dark] .colab-df-convert {\n",
              "      background-color: #3B4455;\n",
              "      fill: #D2E3FC;\n",
              "    }\n",
              "\n",
              "    [theme=dark] .colab-df-convert:hover {\n",
              "      background-color: #434B5C;\n",
              "      box-shadow: 0px 1px 3px 1px rgba(0, 0, 0, 0.15);\n",
              "      filter: drop-shadow(0px 1px 2px rgba(0, 0, 0, 0.3));\n",
              "      fill: #FFFFFF;\n",
              "    }\n",
              "  </style>\n",
              "\n",
              "    <script>\n",
              "      const buttonEl =\n",
              "        document.querySelector('#df-af2fc3b0-9c35-4183-a105-c52108ff2360 button.colab-df-convert');\n",
              "      buttonEl.style.display =\n",
              "        google.colab.kernel.accessAllowed ? 'block' : 'none';\n",
              "\n",
              "      async function convertToInteractive(key) {\n",
              "        const element = document.querySelector('#df-af2fc3b0-9c35-4183-a105-c52108ff2360');\n",
              "        const dataTable =\n",
              "          await google.colab.kernel.invokeFunction('convertToInteractive',\n",
              "                                                    [key], {});\n",
              "        if (!dataTable) return;\n",
              "\n",
              "        const docLinkHtml = 'Like what you see? Visit the ' +\n",
              "          '<a target=\"_blank\" href=https://colab.research.google.com/notebooks/data_table.ipynb>data table notebook</a>'\n",
              "          + ' to learn more about interactive tables.';\n",
              "        element.innerHTML = '';\n",
              "        dataTable['output_type'] = 'display_data';\n",
              "        await google.colab.output.renderOutput(dataTable, element);\n",
              "        const docLink = document.createElement('div');\n",
              "        docLink.innerHTML = docLinkHtml;\n",
              "        element.appendChild(docLink);\n",
              "      }\n",
              "    </script>\n",
              "  </div>\n",
              "\n",
              "    </div>\n",
              "  </div>\n"
            ],
            "application/vnd.google.colaboratory.intrinsic+json": {
              "type": "dataframe",
              "repr_error": "Out of range float values are not JSON compliant: nan"
            }
          },
          "metadata": {},
          "execution_count": 349
        }
      ],
      "source": [
        "# Verificando se há registros duplicados\n",
        "df_ss[df_ss.duplicated()]"
      ]
    },
    {
      "cell_type": "code",
      "execution_count": 350,
      "id": "936d1045",
      "metadata": {
        "colab": {
          "base_uri": "https://localhost:8080/"
        },
        "id": "936d1045",
        "outputId": "217a2b4c-68a3-4255-cba5-98e951ce3d89"
      },
      "outputs": [
        {
          "output_type": "execute_result",
          "data": {
            "text/plain": [
              "DatGeracaoConjuntoDados    0\n",
              "AnoReferencia              0\n",
              "MesReferencia              0\n",
              "NomUF                      0\n",
              "SigUF                      0\n",
              "MdaPotenciaInstaladakW     0\n",
              "dtype: int64"
            ]
          },
          "metadata": {},
          "execution_count": 350
        }
      ],
      "source": [
        "# Verificando de há valores ausentes\n",
        "df_ss.isnull().sum()"
      ]
    },
    {
      "cell_type": "markdown",
      "id": "78c23315",
      "metadata": {
        "id": "78c23315"
      },
      "source": [
        "## **1. Qual o ano com a maior media de capacidade de geração de energia do estado de Goiás?**"
      ]
    },
    {
      "cell_type": "code",
      "execution_count": 351,
      "id": "69296d71",
      "metadata": {
        "id": "69296d71"
      },
      "outputs": [],
      "source": [
        "# Primeiro filtramos o dataframe com os registros da categoria que desejamos\n",
        "df_ss_p1 = df_ss[df_ss['SigUF'] == 'GO']"
      ]
    },
    {
      "cell_type": "code",
      "execution_count": 352,
      "id": "3faec6b2",
      "metadata": {
        "id": "3faec6b2"
      },
      "outputs": [],
      "source": [
        "# Em seguida agrupamos por anos e calculamos a média de capacidade de geração de energia por ano, pois existem anos com duas ou mais informações por estado\n",
        "df_ss_p1_total = df_ss.groupby(['AnoReferencia'])['MdaPotenciaInstaladakW'].agg([np.mean])\n",
        "\n",
        "# Renomear a coluna mean para Capacidade\n",
        "df_ss_p1_total.rename(columns={'mean': 'Capacidade'}, inplace=True)"
      ]
    },
    {
      "cell_type": "code",
      "execution_count": 353,
      "id": "dc18e543",
      "metadata": {
        "colab": {
          "base_uri": "https://localhost:8080/"
        },
        "id": "dc18e543",
        "outputId": "e82a96cf-682d-406c-910a-42b160326f89"
      },
      "outputs": [
        {
          "output_type": "stream",
          "name": "stdout",
          "text": [
            "Ano com maior capacidade de geração do estado de Goiás: Capacidade    2024\n",
            "dtype: int64\n"
          ]
        }
      ],
      "source": [
        "# Então encontramos o ano com maior capacidade de geração\n",
        "ano_maior_geracao = df_ss_p1_total.idxmax()\n",
        "print(\"Ano com maior capacidade de geração do estado de Goiás:\", ano_maior_geracao)"
      ]
    },
    {
      "cell_type": "code",
      "execution_count": 354,
      "id": "543561e5",
      "metadata": {
        "colab": {
          "base_uri": "https://localhost:8080/",
          "height": 677
        },
        "id": "543561e5",
        "outputId": "5a959cd3-6b34-4d63-cdd8-95017f806f86"
      },
      "outputs": [
        {
          "output_type": "execute_result",
          "data": {
            "text/plain": [
              "                 Capacidade\n",
              "AnoReferencia              \n",
              "2024           7.403993e+06\n",
              "2023           7.196588e+06\n",
              "2022           6.867198e+06\n",
              "2021           6.592620e+06\n",
              "2020           6.412758e+06\n",
              "2019           6.171450e+06\n",
              "2013           5.946909e+06\n",
              "2018           5.939085e+06\n",
              "2012           5.702028e+06\n",
              "2017           5.701022e+06\n",
              "2014           5.612451e+06\n",
              "2011           5.593841e+06\n",
              "2016           5.433884e+06\n",
              "2010           5.216428e+06\n",
              "2015           5.120600e+06\n",
              "2009           5.094656e+06\n",
              "2008           4.999676e+06\n",
              "2007           4.956631e+06\n",
              "2006           4.855116e+06"
            ],
            "text/html": [
              "\n",
              "  <div id=\"df-754e3635-c7cf-4d73-8dc1-b47b2cd03973\" class=\"colab-df-container\">\n",
              "    <div>\n",
              "<style scoped>\n",
              "    .dataframe tbody tr th:only-of-type {\n",
              "        vertical-align: middle;\n",
              "    }\n",
              "\n",
              "    .dataframe tbody tr th {\n",
              "        vertical-align: top;\n",
              "    }\n",
              "\n",
              "    .dataframe thead th {\n",
              "        text-align: right;\n",
              "    }\n",
              "</style>\n",
              "<table border=\"1\" class=\"dataframe\">\n",
              "  <thead>\n",
              "    <tr style=\"text-align: right;\">\n",
              "      <th></th>\n",
              "      <th>Capacidade</th>\n",
              "    </tr>\n",
              "    <tr>\n",
              "      <th>AnoReferencia</th>\n",
              "      <th></th>\n",
              "    </tr>\n",
              "  </thead>\n",
              "  <tbody>\n",
              "    <tr>\n",
              "      <th>2024</th>\n",
              "      <td>7.403993e+06</td>\n",
              "    </tr>\n",
              "    <tr>\n",
              "      <th>2023</th>\n",
              "      <td>7.196588e+06</td>\n",
              "    </tr>\n",
              "    <tr>\n",
              "      <th>2022</th>\n",
              "      <td>6.867198e+06</td>\n",
              "    </tr>\n",
              "    <tr>\n",
              "      <th>2021</th>\n",
              "      <td>6.592620e+06</td>\n",
              "    </tr>\n",
              "    <tr>\n",
              "      <th>2020</th>\n",
              "      <td>6.412758e+06</td>\n",
              "    </tr>\n",
              "    <tr>\n",
              "      <th>2019</th>\n",
              "      <td>6.171450e+06</td>\n",
              "    </tr>\n",
              "    <tr>\n",
              "      <th>2013</th>\n",
              "      <td>5.946909e+06</td>\n",
              "    </tr>\n",
              "    <tr>\n",
              "      <th>2018</th>\n",
              "      <td>5.939085e+06</td>\n",
              "    </tr>\n",
              "    <tr>\n",
              "      <th>2012</th>\n",
              "      <td>5.702028e+06</td>\n",
              "    </tr>\n",
              "    <tr>\n",
              "      <th>2017</th>\n",
              "      <td>5.701022e+06</td>\n",
              "    </tr>\n",
              "    <tr>\n",
              "      <th>2014</th>\n",
              "      <td>5.612451e+06</td>\n",
              "    </tr>\n",
              "    <tr>\n",
              "      <th>2011</th>\n",
              "      <td>5.593841e+06</td>\n",
              "    </tr>\n",
              "    <tr>\n",
              "      <th>2016</th>\n",
              "      <td>5.433884e+06</td>\n",
              "    </tr>\n",
              "    <tr>\n",
              "      <th>2010</th>\n",
              "      <td>5.216428e+06</td>\n",
              "    </tr>\n",
              "    <tr>\n",
              "      <th>2015</th>\n",
              "      <td>5.120600e+06</td>\n",
              "    </tr>\n",
              "    <tr>\n",
              "      <th>2009</th>\n",
              "      <td>5.094656e+06</td>\n",
              "    </tr>\n",
              "    <tr>\n",
              "      <th>2008</th>\n",
              "      <td>4.999676e+06</td>\n",
              "    </tr>\n",
              "    <tr>\n",
              "      <th>2007</th>\n",
              "      <td>4.956631e+06</td>\n",
              "    </tr>\n",
              "    <tr>\n",
              "      <th>2006</th>\n",
              "      <td>4.855116e+06</td>\n",
              "    </tr>\n",
              "  </tbody>\n",
              "</table>\n",
              "</div>\n",
              "    <div class=\"colab-df-buttons\">\n",
              "\n",
              "  <div class=\"colab-df-container\">\n",
              "    <button class=\"colab-df-convert\" onclick=\"convertToInteractive('df-754e3635-c7cf-4d73-8dc1-b47b2cd03973')\"\n",
              "            title=\"Convert this dataframe to an interactive table.\"\n",
              "            style=\"display:none;\">\n",
              "\n",
              "  <svg xmlns=\"http://www.w3.org/2000/svg\" height=\"24px\" viewBox=\"0 -960 960 960\">\n",
              "    <path d=\"M120-120v-720h720v720H120Zm60-500h600v-160H180v160Zm220 220h160v-160H400v160Zm0 220h160v-160H400v160ZM180-400h160v-160H180v160Zm440 0h160v-160H620v160ZM180-180h160v-160H180v160Zm440 0h160v-160H620v160Z\"/>\n",
              "  </svg>\n",
              "    </button>\n",
              "\n",
              "  <style>\n",
              "    .colab-df-container {\n",
              "      display:flex;\n",
              "      gap: 12px;\n",
              "    }\n",
              "\n",
              "    .colab-df-convert {\n",
              "      background-color: #E8F0FE;\n",
              "      border: none;\n",
              "      border-radius: 50%;\n",
              "      cursor: pointer;\n",
              "      display: none;\n",
              "      fill: #1967D2;\n",
              "      height: 32px;\n",
              "      padding: 0 0 0 0;\n",
              "      width: 32px;\n",
              "    }\n",
              "\n",
              "    .colab-df-convert:hover {\n",
              "      background-color: #E2EBFA;\n",
              "      box-shadow: 0px 1px 2px rgba(60, 64, 67, 0.3), 0px 1px 3px 1px rgba(60, 64, 67, 0.15);\n",
              "      fill: #174EA6;\n",
              "    }\n",
              "\n",
              "    .colab-df-buttons div {\n",
              "      margin-bottom: 4px;\n",
              "    }\n",
              "\n",
              "    [theme=dark] .colab-df-convert {\n",
              "      background-color: #3B4455;\n",
              "      fill: #D2E3FC;\n",
              "    }\n",
              "\n",
              "    [theme=dark] .colab-df-convert:hover {\n",
              "      background-color: #434B5C;\n",
              "      box-shadow: 0px 1px 3px 1px rgba(0, 0, 0, 0.15);\n",
              "      filter: drop-shadow(0px 1px 2px rgba(0, 0, 0, 0.3));\n",
              "      fill: #FFFFFF;\n",
              "    }\n",
              "  </style>\n",
              "\n",
              "    <script>\n",
              "      const buttonEl =\n",
              "        document.querySelector('#df-754e3635-c7cf-4d73-8dc1-b47b2cd03973 button.colab-df-convert');\n",
              "      buttonEl.style.display =\n",
              "        google.colab.kernel.accessAllowed ? 'block' : 'none';\n",
              "\n",
              "      async function convertToInteractive(key) {\n",
              "        const element = document.querySelector('#df-754e3635-c7cf-4d73-8dc1-b47b2cd03973');\n",
              "        const dataTable =\n",
              "          await google.colab.kernel.invokeFunction('convertToInteractive',\n",
              "                                                    [key], {});\n",
              "        if (!dataTable) return;\n",
              "\n",
              "        const docLinkHtml = 'Like what you see? Visit the ' +\n",
              "          '<a target=\"_blank\" href=https://colab.research.google.com/notebooks/data_table.ipynb>data table notebook</a>'\n",
              "          + ' to learn more about interactive tables.';\n",
              "        element.innerHTML = '';\n",
              "        dataTable['output_type'] = 'display_data';\n",
              "        await google.colab.output.renderOutput(dataTable, element);\n",
              "        const docLink = document.createElement('div');\n",
              "        docLink.innerHTML = docLinkHtml;\n",
              "        element.appendChild(docLink);\n",
              "      }\n",
              "    </script>\n",
              "  </div>\n",
              "\n",
              "\n",
              "<div id=\"df-927e3063-e6bd-4658-b1f4-eb9dc79d62be\">\n",
              "  <button class=\"colab-df-quickchart\" onclick=\"quickchart('df-927e3063-e6bd-4658-b1f4-eb9dc79d62be')\"\n",
              "            title=\"Suggest charts\"\n",
              "            style=\"display:none;\">\n",
              "\n",
              "<svg xmlns=\"http://www.w3.org/2000/svg\" height=\"24px\"viewBox=\"0 0 24 24\"\n",
              "     width=\"24px\">\n",
              "    <g>\n",
              "        <path d=\"M19 3H5c-1.1 0-2 .9-2 2v14c0 1.1.9 2 2 2h14c1.1 0 2-.9 2-2V5c0-1.1-.9-2-2-2zM9 17H7v-7h2v7zm4 0h-2V7h2v10zm4 0h-2v-4h2v4z\"/>\n",
              "    </g>\n",
              "</svg>\n",
              "  </button>\n",
              "\n",
              "<style>\n",
              "  .colab-df-quickchart {\n",
              "      --bg-color: #E8F0FE;\n",
              "      --fill-color: #1967D2;\n",
              "      --hover-bg-color: #E2EBFA;\n",
              "      --hover-fill-color: #174EA6;\n",
              "      --disabled-fill-color: #AAA;\n",
              "      --disabled-bg-color: #DDD;\n",
              "  }\n",
              "\n",
              "  [theme=dark] .colab-df-quickchart {\n",
              "      --bg-color: #3B4455;\n",
              "      --fill-color: #D2E3FC;\n",
              "      --hover-bg-color: #434B5C;\n",
              "      --hover-fill-color: #FFFFFF;\n",
              "      --disabled-bg-color: #3B4455;\n",
              "      --disabled-fill-color: #666;\n",
              "  }\n",
              "\n",
              "  .colab-df-quickchart {\n",
              "    background-color: var(--bg-color);\n",
              "    border: none;\n",
              "    border-radius: 50%;\n",
              "    cursor: pointer;\n",
              "    display: none;\n",
              "    fill: var(--fill-color);\n",
              "    height: 32px;\n",
              "    padding: 0;\n",
              "    width: 32px;\n",
              "  }\n",
              "\n",
              "  .colab-df-quickchart:hover {\n",
              "    background-color: var(--hover-bg-color);\n",
              "    box-shadow: 0 1px 2px rgba(60, 64, 67, 0.3), 0 1px 3px 1px rgba(60, 64, 67, 0.15);\n",
              "    fill: var(--button-hover-fill-color);\n",
              "  }\n",
              "\n",
              "  .colab-df-quickchart-complete:disabled,\n",
              "  .colab-df-quickchart-complete:disabled:hover {\n",
              "    background-color: var(--disabled-bg-color);\n",
              "    fill: var(--disabled-fill-color);\n",
              "    box-shadow: none;\n",
              "  }\n",
              "\n",
              "  .colab-df-spinner {\n",
              "    border: 2px solid var(--fill-color);\n",
              "    border-color: transparent;\n",
              "    border-bottom-color: var(--fill-color);\n",
              "    animation:\n",
              "      spin 1s steps(1) infinite;\n",
              "  }\n",
              "\n",
              "  @keyframes spin {\n",
              "    0% {\n",
              "      border-color: transparent;\n",
              "      border-bottom-color: var(--fill-color);\n",
              "      border-left-color: var(--fill-color);\n",
              "    }\n",
              "    20% {\n",
              "      border-color: transparent;\n",
              "      border-left-color: var(--fill-color);\n",
              "      border-top-color: var(--fill-color);\n",
              "    }\n",
              "    30% {\n",
              "      border-color: transparent;\n",
              "      border-left-color: var(--fill-color);\n",
              "      border-top-color: var(--fill-color);\n",
              "      border-right-color: var(--fill-color);\n",
              "    }\n",
              "    40% {\n",
              "      border-color: transparent;\n",
              "      border-right-color: var(--fill-color);\n",
              "      border-top-color: var(--fill-color);\n",
              "    }\n",
              "    60% {\n",
              "      border-color: transparent;\n",
              "      border-right-color: var(--fill-color);\n",
              "    }\n",
              "    80% {\n",
              "      border-color: transparent;\n",
              "      border-right-color: var(--fill-color);\n",
              "      border-bottom-color: var(--fill-color);\n",
              "    }\n",
              "    90% {\n",
              "      border-color: transparent;\n",
              "      border-bottom-color: var(--fill-color);\n",
              "    }\n",
              "  }\n",
              "</style>\n",
              "\n",
              "  <script>\n",
              "    async function quickchart(key) {\n",
              "      const quickchartButtonEl =\n",
              "        document.querySelector('#' + key + ' button');\n",
              "      quickchartButtonEl.disabled = true;  // To prevent multiple clicks.\n",
              "      quickchartButtonEl.classList.add('colab-df-spinner');\n",
              "      try {\n",
              "        const charts = await google.colab.kernel.invokeFunction(\n",
              "            'suggestCharts', [key], {});\n",
              "      } catch (error) {\n",
              "        console.error('Error during call to suggestCharts:', error);\n",
              "      }\n",
              "      quickchartButtonEl.classList.remove('colab-df-spinner');\n",
              "      quickchartButtonEl.classList.add('colab-df-quickchart-complete');\n",
              "    }\n",
              "    (() => {\n",
              "      let quickchartButtonEl =\n",
              "        document.querySelector('#df-927e3063-e6bd-4658-b1f4-eb9dc79d62be button');\n",
              "      quickchartButtonEl.style.display =\n",
              "        google.colab.kernel.accessAllowed ? 'block' : 'none';\n",
              "    })();\n",
              "  </script>\n",
              "</div>\n",
              "    </div>\n",
              "  </div>\n"
            ],
            "application/vnd.google.colaboratory.intrinsic+json": {
              "type": "dataframe",
              "summary": "{\n  \"name\": \"df_ss_p1_total\",\n  \"rows\": 19,\n  \"fields\": [\n    {\n      \"column\": \"AnoReferencia\",\n      \"properties\": {\n        \"dtype\": \"number\",\n        \"std\": 5,\n        \"min\": 2006,\n        \"max\": 2024,\n        \"num_unique_values\": 19,\n        \"samples\": [\n          2024,\n          2019,\n          2011\n        ],\n        \"semantic_type\": \"\",\n        \"description\": \"\"\n      }\n    },\n    {\n      \"column\": \"Capacidade\",\n      \"properties\": {\n        \"dtype\": \"number\",\n        \"std\": 767394.9900316666,\n        \"min\": 4855115.715925925,\n        \"max\": 7403992.812592592,\n        \"num_unique_values\": 19,\n        \"samples\": [\n          7403992.812592592,\n          6171449.783888889,\n          5593841.259259259\n        ],\n        \"semantic_type\": \"\",\n        \"description\": \"\"\n      }\n    }\n  ]\n}"
            }
          },
          "metadata": {},
          "execution_count": 354
        }
      ],
      "source": [
        "# Para conferir o resultado\n",
        "\n",
        "df_ss_p1_total.sort_values(by='Capacidade', ascending=False)"
      ]
    },
    {
      "cell_type": "markdown",
      "id": "b2257a7b",
      "metadata": {
        "id": "b2257a7b"
      },
      "source": [
        "## **2. Qual o total de capacidade de geração total de cada estado no período de 2006 a 2024?**\n",
        "Apresente o resultado em um gráfico de barras."
      ]
    },
    {
      "cell_type": "code",
      "execution_count": 355,
      "id": "df6ed996",
      "metadata": {
        "id": "df6ed996"
      },
      "outputs": [],
      "source": [
        "# Calculamos a média por ano para cada estado, pois alguns anos existem duas ou mais informações de capacidade de geração\n",
        "df_ss_p2 = df_ss.groupby(['AnoReferencia', 'SigUF'])['MdaPotenciaInstaladakW'].agg([np.mean])"
      ]
    },
    {
      "cell_type": "code",
      "source": [
        "# Agrupar as informações de média por ano para cada estado e somar todos os resultados\n",
        "df_ss_p2 = df_ss_p2.groupby('SigUF')['mean'].sum()"
      ],
      "metadata": {
        "id": "3foyvN9uAhL6"
      },
      "id": "3foyvN9uAhL6",
      "execution_count": 356,
      "outputs": []
    },
    {
      "cell_type": "code",
      "execution_count": 357,
      "id": "d0dddb2a",
      "metadata": {
        "id": "d0dddb2a",
        "outputId": "3fb25b12-d83a-4965-b681-e374e3c32838",
        "colab": {
          "base_uri": "https://localhost:8080/",
          "height": 564
        }
      },
      "outputs": [
        {
          "output_type": "display_data",
          "data": {
            "text/plain": [
              "<Figure size 2000x600 with 1 Axes>"
            ],
            "image/png": "[encoded data removed]"
          },
          "metadata": {}
        }
      ],
      "source": [
        "# Plotando o gráfico\n",
        "plt.figure(figsize=(20, 6))  # Define o tamanho do gráfico\n",
        "plt.bar(df_ss_p2.index, df_ss_p2, width=0.5)  # Ajuste a largura das barras conforme desejado\n",
        "plt.title('Capacidade Total de Geração de Energia de 2006 a 2024')\n",
        "plt.xlabel('Estado')\n",
        "plt.ylabel('Capacidade Total (kW)')\n",
        "plt.grid(True)  # Adiciona uma grade ao gráfico\n",
        "\n",
        "# Adiciona os valores de cada barra dentro do próprio gráfico\n",
        "for x, y in enumerate(df_ss_p2):\n",
        "    plt.text(x, y, f'{y:.2e}', ha='center', va='bottom')  # Adiciona o valor de cada barra em notação científica\n",
        "\n",
        "# Define a notação científica para os valores dentro do gráfico\n",
        "plt.gca().ticklabel_format(axis='y', style='sci', scilimits=(0,0))\n",
        "\n",
        "plt.show()\n"
      ]
    },
    {
      "cell_type": "markdown",
      "id": "2c27a9db",
      "metadata": {
        "id": "2c27a9db"
      },
      "source": [
        "## **3. Qual o total da capacidade de geração por estado no ano de 2024?**\n",
        "\n",
        "Apresente o resultado em um gráfico de barras."
      ]
    },
    {
      "cell_type": "code",
      "execution_count": 358,
      "id": "2187c6b6",
      "metadata": {
        "id": "2187c6b6"
      },
      "outputs": [],
      "source": [
        "# Primeiro filtramos o dataframe com os registros da categoria que desejamos\n",
        "df_ss_p3 = df_ss[df_ss['AnoReferencia'] == 2024]"
      ]
    },
    {
      "cell_type": "code",
      "source": [
        "#Verificar se existem mais de uma informação para esse ano ou seja count > 27\n",
        "numero_de_linhas = df_ss_p3.shape[0]\n",
        "print(numero_de_linhas)"
      ],
      "metadata": {
        "colab": {
          "base_uri": "https://localhost:8080/"
        },
        "id": "aMZBCETiTYwv",
        "outputId": "f67d1c72-552f-432c-ab20-efd4ef96b83c"
      },
      "id": "aMZBCETiTYwv",
      "execution_count": 359,
      "outputs": [
        {
          "output_type": "stream",
          "name": "stdout",
          "text": [
            "27\n"
          ]
        }
      ]
    },
    {
      "cell_type": "code",
      "source": [
        "df_ss_p3 = df_ss.groupby(['SigUF'])['MdaPotenciaInstaladakW'].agg([np.mean])"
      ],
      "metadata": {
        "id": "tMffSw53XDO3"
      },
      "id": "tMffSw53XDO3",
      "execution_count": 360,
      "outputs": []
    },
    {
      "cell_type": "code",
      "execution_count": 361,
      "id": "000f809e",
      "metadata": {
        "id": "000f809e",
        "outputId": "fd08d374-4e7e-4e0d-9ace-f81f9371cea7",
        "colab": {
          "base_uri": "https://localhost:8080/",
          "height": 564
        }
      },
      "outputs": [
        {
          "output_type": "display_data",
          "data": {
            "text/plain": [
              "<Figure size 2000x600 with 1 Axes>"
            ],
            "image/png": "[encoded data removed]"
          },
          "metadata": {}
        }
      ],
      "source": [
        "# Plot\n",
        "plt.figure(figsize=(20, 6))  # Define o tamanho do gráfico\n",
        "plt.bar(df_ss_p3.index, df_ss_p3.values.flatten(), width=0.5)  # Utilize os índices do DataFrame e ajuste a largura das barras\n",
        "plt.title('Capacidade Total de Geração de Energia em 2024')\n",
        "plt.xlabel('Estado')\n",
        "plt.ylabel('Capacidade Total (kW)')\n",
        "plt.grid(True)  # Adiciona uma grade ao gráfico\n",
        "\n",
        "# Adiciona os valores de cada barra dentro do próprio gráfico\n",
        "for x, y in enumerate(df_ss_p3.values.flatten()):\n",
        "    plt.text(x, y, f'{y:.2e}', ha='center', va='bottom')  # Adiciona o valor de cada barra em notação científica\n",
        "\n",
        "# Define a notação científica para os valores dentro do gráfico\n",
        "plt.gca().ticklabel_format(axis='y', style='sci', scilimits=(0, 0))\n",
        "\n",
        "plt.show()"
      ]
    },
    {
      "cell_type": "code",
      "source": [
        "print(type(df_ss_p3.index))\n",
        "print(type(df_ss_p3.values))"
      ],
      "metadata": {
        "colab": {
          "base_uri": "https://localhost:8080/"
        },
        "id": "HlAzqVoQYwbD",
        "outputId": "05543e3f-5714-4f9c-bd55-a260fca4b270"
      },
      "id": "HlAzqVoQYwbD",
      "execution_count": 362,
      "outputs": [
        {
          "output_type": "stream",
          "name": "stdout",
          "text": [
            "<class 'pandas.core.indexes.base.Index'>\n",
            "<class 'numpy.ndarray'>\n"
          ]
        }
      ]
    },
    {
      "cell_type": "markdown",
      "id": "ac63cfc4",
      "metadata": {
        "id": "ac63cfc4"
      },
      "source": [
        "## **4. Quais são as 4 estados com maior capacidade em geração de energia em 2024?**\n",
        "\n",
        "Apresente o resultado em um gráfico de barras."
      ]
    },
    {
      "cell_type": "code",
      "execution_count": 363,
      "id": "042ef540",
      "metadata": {
        "id": "042ef540"
      },
      "outputs": [],
      "source": [
        "# Agrupamos por cidade, calculamos o total de vendas e ordenamos listando somente os 10 primeiros registros\n",
        "\n",
        "df_ss_p4 = df_ss_p3.sort_values(by='mean', ascending=False).head(4)\n",
        ""
      ]
    },
    {
      "cell_type": "code",
      "execution_count": 364,
      "id": "b96b6a84",
      "metadata": {
        "id": "b96b6a84",
        "outputId": "799081f9-eb4c-410e-d2f7-01be7b5db217",
        "colab": {
          "base_uri": "https://localhost:8080/",
          "height": 564
        }
      },
      "outputs": [
        {
          "output_type": "display_data",
          "data": {
            "text/plain": [
              "<Figure size 2000x600 with 1 Axes>"
            ],
            "image/png": "[encoded data removed]"
          },
          "metadata": {}
        }
      ],
      "source": [
        "# Plot\n",
        "plt.figure(figsize=(20, 6))  # Define o tamanho do gráfico\n",
        "plt.bar(df_ss_p4.index, df_ss_p4.values.flatten(), width=0.5)  # Utilize os índices do DataFrame e ajuste a largura das barras\n",
        "plt.title('Estados Com Maior Capacidade Total de Geração de Energia em 2024')\n",
        "plt.xlabel('Estado')\n",
        "plt.ylabel('Capacidade Total (kW)')\n",
        "plt.grid(True)  # Adiciona uma grade ao gráfico\n",
        "\n",
        "# Adiciona os valores de cada barra dentro do próprio gráfico\n",
        "for x, y in enumerate(df_ss_p4.values.flatten()):\n",
        "    plt.text(x, y, f'{y:.2e}', ha='center', va='bottom')  # Adiciona o valor de cada barra em notação científica\n",
        "\n",
        "# Define a notação científica para os valores dentro do gráfico\n",
        "plt.gca().ticklabel_format(axis='y', style='sci', scilimits=(0, 0))\n",
        "\n",
        "plt.show()"
      ]
    },
    {
      "cell_type": "markdown",
      "id": "4831dc06",
      "metadata": {
        "id": "4831dc06"
      },
      "source": [
        "## **5. Qual ano teve a maior capacidade de geração?**\n",
        "\n",
        "Apresente o resultado em um gráfico de pizza."
      ]
    },
    {
      "cell_type": "code",
      "execution_count": 365,
      "id": "70c90a68",
      "metadata": {
        "id": "70c90a68"
      },
      "outputs": [],
      "source": [
        "# Agrupamos por segmento e calculamos o total de vendas\n",
        "df_ss_p5 = df_ss.groupby('AnoReferencia')['MdaPotenciaInstaladakW'].mean().reset_index().sort_values(by = 'MdaPotenciaInstaladakW',\n",
        "                                                                                      ascending = False)"
      ]
    },
    {
      "cell_type": "code",
      "execution_count": 366,
      "id": "7454f107",
      "metadata": {
        "id": "7454f107",
        "outputId": "de3fb170-0a79-4aa9-e355-8648b6d5558e",
        "colab": {
          "base_uri": "https://localhost:8080/",
          "height": 645
        }
      },
      "outputs": [
        {
          "output_type": "execute_result",
          "data": {
            "text/plain": [
              "    AnoReferencia  MdaPotenciaInstaladakW\n",
              "18           2024            7.403993e+06\n",
              "17           2023            7.196588e+06\n",
              "16           2022            6.867198e+06\n",
              "15           2021            6.592620e+06\n",
              "14           2020            6.412758e+06\n",
              "13           2019            6.171450e+06\n",
              "7            2013            5.946909e+06\n",
              "12           2018            5.939085e+06\n",
              "6            2012            5.702028e+06\n",
              "11           2017            5.701022e+06\n",
              "8            2014            5.612451e+06\n",
              "5            2011            5.593841e+06\n",
              "10           2016            5.433884e+06\n",
              "4            2010            5.216428e+06\n",
              "9            2015            5.120600e+06\n",
              "3            2009            5.094656e+06\n",
              "2            2008            4.999676e+06\n",
              "1            2007            4.956631e+06\n",
              "0            2006            4.855116e+06"
            ],
            "text/html": [
              "\n",
              "  <div id=\"df-a36e2c70-2279-4c53-b120-17035706d7cf\" class=\"colab-df-container\">\n",
              "    <div>\n",
              "<style scoped>\n",
              "    .dataframe tbody tr th:only-of-type {\n",
              "        vertical-align: middle;\n",
              "    }\n",
              "\n",
              "    .dataframe tbody tr th {\n",
              "        vertical-align: top;\n",
              "    }\n",
              "\n",
              "    .dataframe thead th {\n",
              "        text-align: right;\n",
              "    }\n",
              "</style>\n",
              "<table border=\"1\" class=\"dataframe\">\n",
              "  <thead>\n",
              "    <tr style=\"text-align: right;\">\n",
              "      <th></th>\n",
              "      <th>AnoReferencia</th>\n",
              "      <th>MdaPotenciaInstaladakW</th>\n",
              "    </tr>\n",
              "  </thead>\n",
              "  <tbody>\n",
              "    <tr>\n",
              "      <th>18</th>\n",
              "      <td>2024</td>\n",
              "      <td>7.403993e+06</td>\n",
              "    </tr>\n",
              "    <tr>\n",
              "      <th>17</th>\n",
              "      <td>2023</td>\n",
              "      <td>7.196588e+06</td>\n",
              "    </tr>\n",
              "    <tr>\n",
              "      <th>16</th>\n",
              "      <td>2022</td>\n",
              "      <td>6.867198e+06</td>\n",
              "    </tr>\n",
              "    <tr>\n",
              "      <th>15</th>\n",
              "      <td>2021</td>\n",
              "      <td>6.592620e+06</td>\n",
              "    </tr>\n",
              "    <tr>\n",
              "      <th>14</th>\n",
              "      <td>2020</td>\n",
              "      <td>6.412758e+06</td>\n",
              "    </tr>\n",
              "    <tr>\n",
              "      <th>13</th>\n",
              "      <td>2019</td>\n",
              "      <td>6.171450e+06</td>\n",
              "    </tr>\n",
              "    <tr>\n",
              "      <th>7</th>\n",
              "      <td>2013</td>\n",
              "      <td>5.946909e+06</td>\n",
              "    </tr>\n",
              "    <tr>\n",
              "      <th>12</th>\n",
              "      <td>2018</td>\n",
              "      <td>5.939085e+06</td>\n",
              "    </tr>\n",
              "    <tr>\n",
              "      <th>6</th>\n",
              "      <td>2012</td>\n",
              "      <td>5.702028e+06</td>\n",
              "    </tr>\n",
              "    <tr>\n",
              "      <th>11</th>\n",
              "      <td>2017</td>\n",
              "      <td>5.701022e+06</td>\n",
              "    </tr>\n",
              "    <tr>\n",
              "      <th>8</th>\n",
              "      <td>2014</td>\n",
              "      <td>5.612451e+06</td>\n",
              "    </tr>\n",
              "    <tr>\n",
              "      <th>5</th>\n",
              "      <td>2011</td>\n",
              "      <td>5.593841e+06</td>\n",
              "    </tr>\n",
              "    <tr>\n",
              "      <th>10</th>\n",
              "      <td>2016</td>\n",
              "      <td>5.433884e+06</td>\n",
              "    </tr>\n",
              "    <tr>\n",
              "      <th>4</th>\n",
              "      <td>2010</td>\n",
              "      <td>5.216428e+06</td>\n",
              "    </tr>\n",
              "    <tr>\n",
              "      <th>9</th>\n",
              "      <td>2015</td>\n",
              "      <td>5.120600e+06</td>\n",
              "    </tr>\n",
              "    <tr>\n",
              "      <th>3</th>\n",
              "      <td>2009</td>\n",
              "      <td>5.094656e+06</td>\n",
              "    </tr>\n",
              "    <tr>\n",
              "      <th>2</th>\n",
              "      <td>2008</td>\n",
              "      <td>4.999676e+06</td>\n",
              "    </tr>\n",
              "    <tr>\n",
              "      <th>1</th>\n",
              "      <td>2007</td>\n",
              "      <td>4.956631e+06</td>\n",
              "    </tr>\n",
              "    <tr>\n",
              "      <th>0</th>\n",
              "      <td>2006</td>\n",
              "      <td>4.855116e+06</td>\n",
              "    </tr>\n",
              "  </tbody>\n",
              "</table>\n",
              "</div>\n",
              "    <div class=\"colab-df-buttons\">\n",
              "\n",
              "  <div class=\"colab-df-container\">\n",
              "    <button class=\"colab-df-convert\" onclick=\"convertToInteractive('df-a36e2c70-2279-4c53-b120-17035706d7cf')\"\n",
              "            title=\"Convert this dataframe to an interactive table.\"\n",
              "            style=\"display:none;\">\n",
              "\n",
              "  <svg xmlns=\"http://www.w3.org/2000/svg\" height=\"24px\" viewBox=\"0 -960 960 960\">\n",
              "    <path d=\"M120-120v-720h720v720H120Zm60-500h600v-160H180v160Zm220 220h160v-160H400v160Zm0 220h160v-160H400v160ZM180-400h160v-160H180v160Zm440 0h160v-160H620v160ZM180-180h160v-160H180v160Zm440 0h160v-160H620v160Z\"/>\n",
              "  </svg>\n",
              "    </button>\n",
              "\n",
              "  <style>\n",
              "    .colab-df-container {\n",
              "      display:flex;\n",
              "      gap: 12px;\n",
              "    }\n",
              "\n",
              "    .colab-df-convert {\n",
              "      background-color: #E8F0FE;\n",
              "      border: none;\n",
              "      border-radius: 50%;\n",
              "      cursor: pointer;\n",
              "      display: none;\n",
              "      fill: #1967D2;\n",
              "      height: 32px;\n",
              "      padding: 0 0 0 0;\n",
              "      width: 32px;\n",
              "    }\n",
              "\n",
              "    .colab-df-convert:hover {\n",
              "      background-color: #E2EBFA;\n",
              "      box-shadow: 0px 1px 2px rgba(60, 64, 67, 0.3), 0px 1px 3px 1px rgba(60, 64, 67, 0.15);\n",
              "      fill: #174EA6;\n",
              "    }\n",
              "\n",
              "    .colab-df-buttons div {\n",
              "      margin-bottom: 4px;\n",
              "    }\n",
              "\n",
              "    [theme=dark] .colab-df-convert {\n",
              "      background-color: #3B4455;\n",
              "      fill: #D2E3FC;\n",
              "    }\n",
              "\n",
              "    [theme=dark] .colab-df-convert:hover {\n",
              "      background-color: #434B5C;\n",
              "      box-shadow: 0px 1px 3px 1px rgba(0, 0, 0, 0.15);\n",
              "      filter: drop-shadow(0px 1px 2px rgba(0, 0, 0, 0.3));\n",
              "      fill: #FFFFFF;\n",
              "    }\n",
              "  </style>\n",
              "\n",
              "    <script>\n",
              "      const buttonEl =\n",
              "        document.querySelector('#df-a36e2c70-2279-4c53-b120-17035706d7cf button.colab-df-convert');\n",
              "      buttonEl.style.display =\n",
              "        google.colab.kernel.accessAllowed ? 'block' : 'none';\n",
              "\n",
              "      async function convertToInteractive(key) {\n",
              "        const element = document.querySelector('#df-a36e2c70-2279-4c53-b120-17035706d7cf');\n",
              "        const dataTable =\n",
              "          await google.colab.kernel.invokeFunction('convertToInteractive',\n",
              "                                                    [key], {});\n",
              "        if (!dataTable) return;\n",
              "\n",
              "        const docLinkHtml = 'Like what you see? Visit the ' +\n",
              "          '<a target=\"_blank\" href=https://colab.research.google.com/notebooks/data_table.ipynb>data table notebook</a>'\n",
              "          + ' to learn more about interactive tables.';\n",
              "        element.innerHTML = '';\n",
              "        dataTable['output_type'] = 'display_data';\n",
              "        await google.colab.output.renderOutput(dataTable, element);\n",
              "        const docLink = document.createElement('div');\n",
              "        docLink.innerHTML = docLinkHtml;\n",
              "        element.appendChild(docLink);\n",
              "      }\n",
              "    </script>\n",
              "  </div>\n",
              "\n",
              "\n",
              "<div id=\"df-aed7a769-db03-4660-930f-913b28cfa743\">\n",
              "  <button class=\"colab-df-quickchart\" onclick=\"quickchart('df-aed7a769-db03-4660-930f-913b28cfa743')\"\n",
              "            title=\"Suggest charts\"\n",
              "            style=\"display:none;\">\n",
              "\n",
              "<svg xmlns=\"http://www.w3.org/2000/svg\" height=\"24px\"viewBox=\"0 0 24 24\"\n",
              "     width=\"24px\">\n",
              "    <g>\n",
              "        <path d=\"M19 3H5c-1.1 0-2 .9-2 2v14c0 1.1.9 2 2 2h14c1.1 0 2-.9 2-2V5c0-1.1-.9-2-2-2zM9 17H7v-7h2v7zm4 0h-2V7h2v10zm4 0h-2v-4h2v4z\"/>\n",
              "    </g>\n",
              "</svg>\n",
              "  </button>\n",
              "\n",
              "<style>\n",
              "  .colab-df-quickchart {\n",
              "      --bg-color: #E8F0FE;\n",
              "      --fill-color: #1967D2;\n",
              "      --hover-bg-color: #E2EBFA;\n",
              "      --hover-fill-color: #174EA6;\n",
              "      --disabled-fill-color: #AAA;\n",
              "      --disabled-bg-color: #DDD;\n",
              "  }\n",
              "\n",
              "  [theme=dark] .colab-df-quickchart {\n",
              "      --bg-color: #3B4455;\n",
              "      --fill-color: #D2E3FC;\n",
              "      --hover-bg-color: #434B5C;\n",
              "      --hover-fill-color: #FFFFFF;\n",
              "      --disabled-bg-color: #3B4455;\n",
              "      --disabled-fill-color: #666;\n",
              "  }\n",
              "\n",
              "  .colab-df-quickchart {\n",
              "    background-color: var(--bg-color);\n",
              "    border: none;\n",
              "    border-radius: 50%;\n",
              "    cursor: pointer;\n",
              "    display: none;\n",
              "    fill: var(--fill-color);\n",
              "    height: 32px;\n",
              "    padding: 0;\n",
              "    width: 32px;\n",
              "  }\n",
              "\n",
              "  .colab-df-quickchart:hover {\n",
              "    background-color: var(--hover-bg-color);\n",
              "    box-shadow: 0 1px 2px rgba(60, 64, 67, 0.3), 0 1px 3px 1px rgba(60, 64, 67, 0.15);\n",
              "    fill: var(--button-hover-fill-color);\n",
              "  }\n",
              "\n",
              "  .colab-df-quickchart-complete:disabled,\n",
              "  .colab-df-quickchart-complete:disabled:hover {\n",
              "    background-color: var(--disabled-bg-color);\n",
              "    fill: var(--disabled-fill-color);\n",
              "    box-shadow: none;\n",
              "  }\n",
              "\n",
              "  .colab-df-spinner {\n",
              "    border: 2px solid var(--fill-color);\n",
              "    border-color: transparent;\n",
              "    border-bottom-color: var(--fill-color);\n",
              "    animation:\n",
              "      spin 1s steps(1) infinite;\n",
              "  }\n",
              "\n",
              "  @keyframes spin {\n",
              "    0% {\n",
              "      border-color: transparent;\n",
              "      border-bottom-color: var(--fill-color);\n",
              "      border-left-color: var(--fill-color);\n",
              "    }\n",
              "    20% {\n",
              "      border-color: transparent;\n",
              "      border-left-color: var(--fill-color);\n",
              "      border-top-color: var(--fill-color);\n",
              "    }\n",
              "    30% {\n",
              "      border-color: transparent;\n",
              "      border-left-color: var(--fill-color);\n",
              "      border-top-color: var(--fill-color);\n",
              "      border-right-color: var(--fill-color);\n",
              "    }\n",
              "    40% {\n",
              "      border-color: transparent;\n",
              "      border-right-color: var(--fill-color);\n",
              "      border-top-color: var(--fill-color);\n",
              "    }\n",
              "    60% {\n",
              "      border-color: transparent;\n",
              "      border-right-color: var(--fill-color);\n",
              "    }\n",
              "    80% {\n",
              "      border-color: transparent;\n",
              "      border-right-color: var(--fill-color);\n",
              "      border-bottom-color: var(--fill-color);\n",
              "    }\n",
              "    90% {\n",
              "      border-color: transparent;\n",
              "      border-bottom-color: var(--fill-color);\n",
              "    }\n",
              "  }\n",
              "</style>\n",
              "\n",
              "  <script>\n",
              "    async function quickchart(key) {\n",
              "      const quickchartButtonEl =\n",
              "        document.querySelector('#' + key + ' button');\n",
              "      quickchartButtonEl.disabled = true;  // To prevent multiple clicks.\n",
              "      quickchartButtonEl.classList.add('colab-df-spinner');\n",
              "      try {\n",
              "        const charts = await google.colab.kernel.invokeFunction(\n",
              "            'suggestCharts', [key], {});\n",
              "      } catch (error) {\n",
              "        console.error('Error during call to suggestCharts:', error);\n",
              "      }\n",
              "      quickchartButtonEl.classList.remove('colab-df-spinner');\n",
              "      quickchartButtonEl.classList.add('colab-df-quickchart-complete');\n",
              "    }\n",
              "    (() => {\n",
              "      let quickchartButtonEl =\n",
              "        document.querySelector('#df-aed7a769-db03-4660-930f-913b28cfa743 button');\n",
              "      quickchartButtonEl.style.display =\n",
              "        google.colab.kernel.accessAllowed ? 'block' : 'none';\n",
              "    })();\n",
              "  </script>\n",
              "</div>\n",
              "    </div>\n",
              "  </div>\n"
            ],
            "application/vnd.google.colaboratory.intrinsic+json": {
              "type": "dataframe",
              "variable_name": "df_ss_p5",
              "summary": "{\n  \"name\": \"df_ss_p5\",\n  \"rows\": 19,\n  \"fields\": [\n    {\n      \"column\": \"AnoReferencia\",\n      \"properties\": {\n        \"dtype\": \"number\",\n        \"std\": 5,\n        \"min\": 2006,\n        \"max\": 2024,\n        \"num_unique_values\": 19,\n        \"samples\": [\n          2024,\n          2019,\n          2011\n        ],\n        \"semantic_type\": \"\",\n        \"description\": \"\"\n      }\n    },\n    {\n      \"column\": \"MdaPotenciaInstaladakW\",\n      \"properties\": {\n        \"dtype\": \"number\",\n        \"std\": 767394.9900316666,\n        \"min\": 4855115.715925925,\n        \"max\": 7403992.812592592,\n        \"num_unique_values\": 19,\n        \"samples\": [\n          7403992.812592592,\n          6171449.783888889,\n          5593841.259259259\n        ],\n        \"semantic_type\": \"\",\n        \"description\": \"\"\n      }\n    }\n  ]\n}"
            }
          },
          "metadata": {},
          "execution_count": 366
        }
      ],
      "source": [
        "df_ss_p5.head(27)"
      ]
    },
    {
      "cell_type": "code",
      "source": [
        "# Função para converter os dados em valor absoluto\n",
        "def autopct_format(values):\n",
        "    def my_format(pct):\n",
        "        total = sum(values)\n",
        "        val = int(round(pct*total/100.0))\n",
        "        return '{:.1e}'.format(val)\n",
        "    return my_format\n"
      ],
      "metadata": {
        "id": "eJY8wLFQhYF0"
      },
      "id": "eJY8wLFQhYF0",
      "execution_count": 367,
      "outputs": []
    },
    {
      "cell_type": "code",
      "execution_count": 368,
      "id": "1ed6acb4",
      "metadata": {
        "id": "1ed6acb4",
        "outputId": "87baa42a-2996-47f8-d8b7-8c8cfe8155b8",
        "colab": {
          "base_uri": "https://localhost:8080/",
          "height": 906
        }
      },
      "outputs": [
        {
          "output_type": "display_data",
          "data": {
            "text/plain": [
              "<Figure size 1100x1100 with 1 Axes>"
            ],
            "image/png": "[encoded data removed]"
          },
          "metadata": {}
        }
      ],
      "source": [
        "# Plot\n",
        "\n",
        "# Tamanho da figura\n",
        "plt.figure(figsize=(11, 11))\n",
        "\n",
        "# Gráfico de pizza\n",
        "plt.pie(df_ss_p5['MdaPotenciaInstaladakW'],\n",
        "        labels=df_ss_p5['AnoReferencia'],\n",
        "        autopct=autopct_format(df_ss_p5['MdaPotenciaInstaladakW']),\n",
        "        startangle=0)\n",
        "\n",
        "# Limpa o círculo central\n",
        "centre_circle = plt.Circle((0, 0), 0.82, fc='white')\n",
        "fig = plt.gcf()\n",
        "fig.gca().add_artist(centre_circle)\n",
        "\n",
        "# Labels e anotações\n",
        "plt.annotate(text='Total de geração' + 'em kW ' + str(int(sum(df_ss_p5['MdaPotenciaInstaladakW']))), xy=(-0.25, 0))\n",
        "plt.title('Total de geração por ano')\n",
        "plt.show()"
      ]
    },
    {
      "cell_type": "markdown",
      "id": "56fbe644",
      "metadata": {
        "id": "56fbe644"
      },
      "source": [
        "## **Desafio 1 - Nível Júnior**\n",
        "\n",
        "Supondo que toda a capacidade gerada fora consumida, com um valor de R$ 0,656 por kWh, temos:\n",
        "\n",
        "- 20% da população paga antes do vencimento e tem 10% de desconto\n",
        "- 40% da população paga no dia do vencimento com o valor integral\n",
        "- 40% da população paga depois do vencimento e tem 10% de juros\n",
        "\n",
        "Qual o valor total arrecadado desde 2006?"
      ]
    },
    {
      "cell_type": "code",
      "execution_count": 369,
      "id": "5735af66",
      "metadata": {
        "id": "5735af66"
      },
      "outputs": [],
      "source": [
        "# Calculo da arrecadação\n",
        "# Calculo da energia gerada por hora durante o período de 2006 a 2024\n",
        "totalkw = sum(df_ss_p5['MdaPotenciaInstaladakW'])*24*365\n",
        "pag_desc = totalkw*0.20*0.9*0.656\n",
        "pag_dia = totalkw*0.4*0.656\n",
        "pag_atras = totalkw*0.4*1.1*0.656\n",
        "totalpag = pag_desc + pag_dia + pag_atras\n",
        "totalpagnormal = totalkw * 0.656"
      ]
    },
    {
      "cell_type": "code",
      "execution_count": 370,
      "id": "d963796c",
      "metadata": {
        "id": "d963796c",
        "outputId": "1e71a9c2-70f0-4bf0-b924-75fe61595487",
        "colab": {
          "base_uri": "https://localhost:8080/"
        }
      },
      "outputs": [
        {
          "output_type": "stream",
          "name": "stdout",
          "text": [
            "O valor com os descontos e juros será R$649552487425.36\n",
            "E o valor sem nenhum tipo de acréscimos ou descontos seria de R$636816164142.51\n"
          ]
        }
      ],
      "source": [
        "print('O valor com os descontos e juros será R${:.2f}'.format(totalpag))\n",
        "print('E o valor sem nenhum tipo de acréscimos ou descontos seria de R${:.2f}'.format(totalpagnormal))"
      ]
    },
    {
      "cell_type": "markdown",
      "source": [
        "**Se vendido toda a capacidade gerada neste período, teria-se arrecadado aproximadamente 637 bilhões se adotado o mesmo valor para cada ano.**\n",
        "\n"
      ],
      "metadata": {
        "id": "ihzbZtIFsYm_"
      },
      "id": "ihzbZtIFsYm_"
    },
    {
      "cell_type": "markdown",
      "id": "f313c42a",
      "metadata": {
        "id": "f313c42a"
      },
      "source": [
        "## **Desafio 2 - Nível Master**\n",
        "\n",
        "Considerando a inflação de 2006 a 2024 de 235,778760 % (dado real) qual seria o valor arrecadado no ano de 2024 se fosse consumida a capacidade gerada em 2006?"
      ]
    },
    {
      "cell_type": "code",
      "execution_count": 371,
      "id": "47b8f2a4",
      "metadata": {
        "id": "47b8f2a4",
        "colab": {
          "base_uri": "https://localhost:8080/"
        },
        "outputId": "f19c821e-6bc4-4580-ba24-2fd8cc7d4428"
      },
      "outputs": [
        {
          "output_type": "stream",
          "name": "stdout",
          "text": [
            "O valor do consumo inflacionado de 2006 a 2024 é de R$93682991829.26\n"
          ]
        }
      ],
      "source": [
        "# Valor de 2006 inflacionado até 2024\n",
        "cons_2006 = df_ss_p5.loc[df_ss_p5['AnoReferencia'] == 2006, 'MdaPotenciaInstaladakW'].values[0]\n",
        "cons_2006_inf = cons_2006 * 3.35778760 * 24 * 365 * 0.656\n",
        "\n",
        "print('O valor do consumo inflacionado de 2006 a 2024 é de R${:.2f}'.format(cons_2006_inf))"
      ]
    },
    {
      "cell_type": "markdown",
      "id": "149e1214",
      "metadata": {
        "id": "149e1214"
      },
      "source": [
        "## **Desafio 3 - Nível Master Ninja**\n",
        "\n",
        "Qual o valor total arrecadado no período de 2006 a 2024 atualizado considerando as seguintes inflações*:\n",
        "\n",
        "2006 - 2024 = 235,778760 %\n",
        "\n",
        "2007 - 2024 = 223,387920 %\n",
        "\n",
        "2008 - 2024 = 200,115790 %\n",
        "\n",
        "2009 - 2024 = 173,310820 %\n",
        "\n",
        "2010 - 2024 = 178,091910 %\n",
        "\n",
        "2011 - 2024 = 149,806020 %\n",
        "\n",
        "2012 - 2024 = 137,691340 %\n",
        "\n",
        "2013 - 2024 = 120,455580 %\n",
        "\n",
        "2014 - 2024 = 108,941620 %\n",
        "\n",
        "2015 - 2024 = 101,514300 %\n",
        "\n",
        "2016 - 2024 = 82,301260 %\n",
        "\n",
        "2017 - 2024 = 70,100140 %\n",
        "\n",
        "2018 - 2024 = 70,990900 %\n",
        "\n",
        "2019 - 2024 = 59,006760 %\n",
        "\n",
        "2020 - 2024 = 48,183540 %\n",
        "\n",
        "2021 - 2024 = 20,339060 %\n",
        "\n",
        "2022 - 2024 = 2,169960 %\n",
        "\n",
        "2023 - 2024 = -3,111700 %\n",
        "\n",
        "*dados retirados do site do BACEN"
      ]
    },
    {
      "cell_type": "code",
      "execution_count": 372,
      "id": "1eed1a02",
      "metadata": {
        "id": "1eed1a02",
        "colab": {
          "base_uri": "https://localhost:8080/"
        },
        "outputId": "89acb24f-5363-44ce-96c2-29c566c6e251"
      },
      "outputs": [
        {
          "output_type": "stream",
          "name": "stdout",
          "text": [
            "O valor do consumo inflacionado de 2006 a 2024 é de R$1227106833617.78\n"
          ]
        }
      ],
      "source": [
        "# Valor de 2006 inflacionado até 2024\n",
        "#cons_2006_inf\n",
        "\n",
        "# Valor de 2007 inflacionado até 2024\n",
        "cons_2007 = df_ss_p5.loc[df_ss_p5['AnoReferencia'] == 2007, 'MdaPotenciaInstaladakW'].values[0]\n",
        "cons_2007_inf = cons_2007 * 3.2338792 * 24 * 365 * 0.656\n",
        "\n",
        "# Valor de 2008 inflacionado até 2024\n",
        "cons_2008 = df_ss_p5.loc[df_ss_p5['AnoReferencia'] == 2008, 'MdaPotenciaInstaladakW'].values[0]\n",
        "cons_2008_inf = cons_2008 * 3.0011579 * 24 * 365 * 0.656\n",
        "\n",
        "# Valor de 2009 inflacionado até 2024\n",
        "cons_2009 = df_ss_p5.loc[df_ss_p5['AnoReferencia'] == 2009, 'MdaPotenciaInstaladakW'].values[0]\n",
        "cons_2009_inf = cons_2009 * 2.7331082 * 24 * 365 * 0.656\n",
        "\n",
        "# Valor de 2010 inflacionado até 2024\n",
        "cons_2010 = df_ss_p5.loc[df_ss_p5['AnoReferencia'] == 2010, 'MdaPotenciaInstaladakW'].values[0]\n",
        "cons_2010_inf = cons_2010 * 2.78091910 * 24 * 365 * 0.656\n",
        "\n",
        "# Valor de 2011 inflacionado até 2024\n",
        "cons_2011 = df_ss_p5.loc[df_ss_p5['AnoReferencia'] == 2011, 'MdaPotenciaInstaladakW'].values[0]\n",
        "cons_2011_inf = cons_2011 * 2.49806020 * 24 * 365 * 0.656\n",
        "\n",
        "# Valor de 2012 inflacionado até 2024\n",
        "cons_2012 = df_ss_p5.loc[df_ss_p5['AnoReferencia'] == 2012, 'MdaPotenciaInstaladakW'].values[0]\n",
        "cons_2012_inf = cons_2012 * 2.37691340 * 24 * 365 * 0.656\n",
        "\n",
        "# Valor de 2013 inflacionado até 2024\n",
        "cons_2013 = df_ss_p5.loc[df_ss_p5['AnoReferencia'] == 2013, 'MdaPotenciaInstaladakW'].values[0]\n",
        "cons_2013_inf = cons_2013 * 2.2045558 * 24 * 365 * 0.656\n",
        "\n",
        "# Valor de 2014 inflacionado até 2024\n",
        "cons_2014 = df_ss_p5.loc[df_ss_p5['AnoReferencia'] == 2014, 'MdaPotenciaInstaladakW'].values[0]\n",
        "cons_2014_inf = cons_2014 * 2.08941620 * 24 * 365 * 0.656\n",
        "\n",
        "# Valor de 2015 inflacionado até 2024\n",
        "cons_2015 = df_ss_p5.loc[df_ss_p5['AnoReferencia'] == 2015, 'MdaPotenciaInstaladakW'].values[0]\n",
        "cons_2015_inf = cons_2015 * 2.01514300 * 24 * 365 * 0.656\n",
        "\n",
        "# Valor de 2016 inflacionado até 2024\n",
        "cons_2016 = df_ss_p5.loc[df_ss_p5['AnoReferencia'] == 2016, 'MdaPotenciaInstaladakW'].values[0]\n",
        "cons_2016_inf = cons_2016 * 1.82301260 * 24 * 365 * 0.656\n",
        "\n",
        "# Valor de 2017 inflacionado até 2024\n",
        "cons_2017 = df_ss_p5.loc[df_ss_p5['AnoReferencia'] == 2017, 'MdaPotenciaInstaladakW'].values[0]\n",
        "cons_2017_inf = cons_2017 * 1.70100140 * 24 * 365 * 0.656\n",
        "\n",
        "# Valor de 2018 inflacionado até 2024\n",
        "cons_2018 = df_ss_p5.loc[df_ss_p5['AnoReferencia'] == 2018, 'MdaPotenciaInstaladakW'].values[0]\n",
        "cons_2018_inf = cons_2018 * 1.70990900 * 24 * 365 * 0.656\n",
        "\n",
        "# Valor de 2019 inflacionado até 2024\n",
        "cons_2019 = df_ss_p5.loc[df_ss_p5['AnoReferencia'] == 2019, 'MdaPotenciaInstaladakW'].values[0]\n",
        "cons_2019_inf = cons_2019 * 1.59006760 * 24 * 365 * 0.656\n",
        "\n",
        "# Valor de 2020 inflacionado até 2024\n",
        "cons_2020 = df_ss_p5.loc[df_ss_p5['AnoReferencia'] == 2020, 'MdaPotenciaInstaladakW'].values[0]\n",
        "cons_2020_inf = cons_2020 * 1.48183540 * 24 * 365 * 0.656\n",
        "\n",
        "# Valor de 2021 inflacionado até 2024\n",
        "cons_2021 = df_ss_p5.loc[df_ss_p5['AnoReferencia'] == 2021, 'MdaPotenciaInstaladakW'].values[0]\n",
        "cons_2021_inf = cons_2021 * 1.20339060 * 24 * 365 * 0.656\n",
        "\n",
        "# Valor de 2022 inflacionado até 2024\n",
        "cons_2022 = df_ss_p5.loc[df_ss_p5['AnoReferencia'] == 2022, 'MdaPotenciaInstaladakW'].values[0]\n",
        "cons_2022_inf = cons_2022 * 1.02169960 * 24 * 365 * 0.656\n",
        "\n",
        "# Valor de 2023 inflacionado até 2024\n",
        "cons_2023 = df_ss_p5.loc[df_ss_p5['AnoReferencia'] == 2023, 'MdaPotenciaInstaladakW'].values[0]\n",
        "cons_2023_inf = cons_2023 * (1-0.3111700) * 24 * 365 * 0.656\n",
        "\n",
        "# Valor de 2024\n",
        "cons_2024 = df_ss_p5.loc[df_ss_p5['AnoReferencia'] == 2024, 'MdaPotenciaInstaladakW'].values[0]\n",
        "cons_2024_inf = cons_2024 * 24 * 365 * 0.656\n",
        "\n",
        "#Valor Total Inflacionado\n",
        "\n",
        "valor_tot_inf = cons_2024_inf + cons_2023_inf + cons_2022_inf + cons_2021_inf + cons_2020_inf + cons_2019_inf + cons_2018_inf + cons_2017_inf + cons_2016_inf + cons_2015_inf + cons_2014_inf + cons_2013_inf + cons_2012_inf + cons_2011_inf + cons_2010_inf + cons_2009_inf + cons_2008_inf + cons_2007_inf + cons_2008_inf\n",
        "\n",
        "\n",
        "print('O valor do consumo inflacionado de 2006 a 2024 é de R${:.2f}'.format(valor_tot_inf))\n",
        "\n"
      ]
    },
    {
      "cell_type": "markdown",
      "id": "836ba626",
      "metadata": {
        "id": "836ba626"
      },
      "source": [
        "## **Desafio 4 - Nível Master Ninja das Galáxias**\n",
        "\n",
        "Qual a diferença do valor estimado com o valor fixo de R$0,656 para o corrigido pela inflação?"
      ]
    },
    {
      "cell_type": "code",
      "source": [
        "aumentoinf = totalpagnormal/valor_tot_inf\n",
        "\n",
        "print('O aumento valor do consumo pago para o consumo inflacionado de 2006 a 2024 é de {:.2f}%'.format(aumentoinf*100))"
      ],
      "metadata": {
        "colab": {
          "base_uri": "https://localhost:8080/"
        },
        "id": "9oyWjgN3CJCI",
        "outputId": "ffadcdae-090f-4da8-8398-bf18de87eca5"
      },
      "id": "9oyWjgN3CJCI",
      "execution_count": 373,
      "outputs": [
        {
          "output_type": "stream",
          "name": "stdout",
          "text": [
            "O aumento valor do consumo pago para o consumo inflacionado de 2006 a 2024 é de 51.90%\n"
          ]
        }
      ]
    }
  ],
  "metadata": {
    "kernelspec": {
      "display_name": "Python 3 (ipykernel)",
      "language": "python",
      "name": "python3"
    },
    "language_info": {
      "codemirror_mode": {
        "name": "ipython",
        "version": 3
      },
      "file_extension": ".py",
      "mimetype": "text/x-python",
      "name": "python",
      "nbconvert_exporter": "python",
      "pygments_lexer": "ipython3",
      "version": "3.11.7"
    },
    "colab": {
      "provenance": [],
      "collapsed_sections": [
        "b2257a7b",
        "2c27a9db",
        "ac63cfc4",
        "4831dc06",
        "8eb0ea56",
        "56fbe644",
        "f313c42a",
        "149e1214",
        "836ba626"
      ],
      "include_colab_link": true
    }
  },
  "nbformat": 4,
  "nbformat_minor": 5
}